{
 "cells": [
  {
   "cell_type": "code",
   "execution_count": 1,
   "id": "27366543",
   "metadata": {},
   "outputs": [],
   "source": [
    "import pandas as pd\n",
    "import numpy as np\n",
    "import matplotlib.pyplot as plt"
   ]
  },
  {
   "cell_type": "code",
   "execution_count": 2,
   "id": "811d6ca0",
   "metadata": {},
   "outputs": [
    {
     "data": {
      "text/html": [
       "<div>\n",
       "<style scoped>\n",
       "    .dataframe tbody tr th:only-of-type {\n",
       "        vertical-align: middle;\n",
       "    }\n",
       "\n",
       "    .dataframe tbody tr th {\n",
       "        vertical-align: top;\n",
       "    }\n",
       "\n",
       "    .dataframe thead th {\n",
       "        text-align: right;\n",
       "    }\n",
       "</style>\n",
       "<table border=\"1\" class=\"dataframe\">\n",
       "  <thead>\n",
       "    <tr style=\"text-align: right;\">\n",
       "      <th></th>\n",
       "      <th>location</th>\n",
       "      <th>price</th>\n",
       "      <th>total_sqft</th>\n",
       "      <th>No. of Bedrooms</th>\n",
       "      <th>School</th>\n",
       "      <th>24X7Security</th>\n",
       "      <th>CarParking</th>\n",
       "      <th>Hospital</th>\n",
       "      <th>LiftAvailable</th>\n",
       "    </tr>\n",
       "  </thead>\n",
       "  <tbody>\n",
       "    <tr>\n",
       "      <th>0</th>\n",
       "      <td>Nizampet</td>\n",
       "      <td>6968000</td>\n",
       "      <td>1340</td>\n",
       "      <td>2</td>\n",
       "      <td>0</td>\n",
       "      <td>1</td>\n",
       "      <td>1</td>\n",
       "      <td>0</td>\n",
       "      <td>1</td>\n",
       "    </tr>\n",
       "    <tr>\n",
       "      <th>1</th>\n",
       "      <td>Hitech City</td>\n",
       "      <td>29000000</td>\n",
       "      <td>3498</td>\n",
       "      <td>4</td>\n",
       "      <td>0</td>\n",
       "      <td>1</td>\n",
       "      <td>1</td>\n",
       "      <td>0</td>\n",
       "      <td>1</td>\n",
       "    </tr>\n",
       "    <tr>\n",
       "      <th>2</th>\n",
       "      <td>Manikonda</td>\n",
       "      <td>6590000</td>\n",
       "      <td>1318</td>\n",
       "      <td>2</td>\n",
       "      <td>0</td>\n",
       "      <td>0</td>\n",
       "      <td>0</td>\n",
       "      <td>0</td>\n",
       "      <td>0</td>\n",
       "    </tr>\n",
       "    <tr>\n",
       "      <th>3</th>\n",
       "      <td>Alwal</td>\n",
       "      <td>5739000</td>\n",
       "      <td>1295</td>\n",
       "      <td>3</td>\n",
       "      <td>0</td>\n",
       "      <td>0</td>\n",
       "      <td>0</td>\n",
       "      <td>0</td>\n",
       "      <td>1</td>\n",
       "    </tr>\n",
       "    <tr>\n",
       "      <th>4</th>\n",
       "      <td>Kukatpally</td>\n",
       "      <td>5679000</td>\n",
       "      <td>1145</td>\n",
       "      <td>2</td>\n",
       "      <td>0</td>\n",
       "      <td>0</td>\n",
       "      <td>1</td>\n",
       "      <td>0</td>\n",
       "      <td>1</td>\n",
       "    </tr>\n",
       "  </tbody>\n",
       "</table>\n",
       "</div>"
      ],
      "text/plain": [
       "      location     price  total_sqft  No. of Bedrooms  School  24X7Security  \\\n",
       "0     Nizampet   6968000        1340                2       0             1   \n",
       "1  Hitech City  29000000        3498                4       0             1   \n",
       "2    Manikonda   6590000        1318                2       0             0   \n",
       "3        Alwal   5739000        1295                3       0             0   \n",
       "4   Kukatpally   5679000        1145                2       0             0   \n",
       "\n",
       "   CarParking  Hospital  LiftAvailable  \n",
       "0           1         0              1  \n",
       "1           1         0              1  \n",
       "2           0         0              0  \n",
       "3           0         0              1  \n",
       "4           1         0              1  "
      ]
     },
     "execution_count": 2,
     "metadata": {},
     "output_type": "execute_result"
    }
   ],
   "source": [
    "df=pd.read_csv(\"clean_data.csv\")\n",
    "df.head()"
   ]
  },
  {
   "cell_type": "code",
   "execution_count": 3,
   "id": "4340aebd",
   "metadata": {},
   "outputs": [
    {
     "data": {
      "text/plain": [
       "location           0\n",
       "price              0\n",
       "total_sqft         0\n",
       "No. of Bedrooms    0\n",
       "School             0\n",
       "24X7Security       0\n",
       "CarParking         0\n",
       "Hospital           0\n",
       "LiftAvailable      0\n",
       "dtype: int64"
      ]
     },
     "execution_count": 3,
     "metadata": {},
     "output_type": "execute_result"
    }
   ],
   "source": [
    "df.isna().sum()"
   ]
  },
  {
   "cell_type": "code",
   "execution_count": 4,
   "id": "27c64b03",
   "metadata": {},
   "outputs": [],
   "source": [
    "Data=df.copy()"
   ]
  },
  {
   "cell_type": "code",
   "execution_count": 5,
   "id": "97d3c908",
   "metadata": {},
   "outputs": [
    {
     "data": {
      "text/html": [
       "<div>\n",
       "<style scoped>\n",
       "    .dataframe tbody tr th:only-of-type {\n",
       "        vertical-align: middle;\n",
       "    }\n",
       "\n",
       "    .dataframe tbody tr th {\n",
       "        vertical-align: top;\n",
       "    }\n",
       "\n",
       "    .dataframe thead th {\n",
       "        text-align: right;\n",
       "    }\n",
       "</style>\n",
       "<table border=\"1\" class=\"dataframe\">\n",
       "  <thead>\n",
       "    <tr style=\"text-align: right;\">\n",
       "      <th></th>\n",
       "      <th>location</th>\n",
       "      <th>price</th>\n",
       "      <th>total_sqft</th>\n",
       "      <th>No. of Bedrooms</th>\n",
       "      <th>School</th>\n",
       "      <th>24X7Security</th>\n",
       "      <th>CarParking</th>\n",
       "      <th>Hospital</th>\n",
       "      <th>LiftAvailable</th>\n",
       "    </tr>\n",
       "  </thead>\n",
       "  <tbody>\n",
       "    <tr>\n",
       "      <th>0</th>\n",
       "      <td>Nizampet</td>\n",
       "      <td>6968000</td>\n",
       "      <td>1340</td>\n",
       "      <td>2</td>\n",
       "      <td>0</td>\n",
       "      <td>1</td>\n",
       "      <td>1</td>\n",
       "      <td>0</td>\n",
       "      <td>1</td>\n",
       "    </tr>\n",
       "    <tr>\n",
       "      <th>1</th>\n",
       "      <td>Hitech City</td>\n",
       "      <td>29000000</td>\n",
       "      <td>3498</td>\n",
       "      <td>4</td>\n",
       "      <td>0</td>\n",
       "      <td>1</td>\n",
       "      <td>1</td>\n",
       "      <td>0</td>\n",
       "      <td>1</td>\n",
       "    </tr>\n",
       "    <tr>\n",
       "      <th>2</th>\n",
       "      <td>Manikonda</td>\n",
       "      <td>6590000</td>\n",
       "      <td>1318</td>\n",
       "      <td>2</td>\n",
       "      <td>0</td>\n",
       "      <td>0</td>\n",
       "      <td>0</td>\n",
       "      <td>0</td>\n",
       "      <td>0</td>\n",
       "    </tr>\n",
       "    <tr>\n",
       "      <th>3</th>\n",
       "      <td>Alwal</td>\n",
       "      <td>5739000</td>\n",
       "      <td>1295</td>\n",
       "      <td>3</td>\n",
       "      <td>0</td>\n",
       "      <td>0</td>\n",
       "      <td>0</td>\n",
       "      <td>0</td>\n",
       "      <td>1</td>\n",
       "    </tr>\n",
       "    <tr>\n",
       "      <th>4</th>\n",
       "      <td>Kukatpally</td>\n",
       "      <td>5679000</td>\n",
       "      <td>1145</td>\n",
       "      <td>2</td>\n",
       "      <td>0</td>\n",
       "      <td>0</td>\n",
       "      <td>1</td>\n",
       "      <td>0</td>\n",
       "      <td>1</td>\n",
       "    </tr>\n",
       "  </tbody>\n",
       "</table>\n",
       "</div>"
      ],
      "text/plain": [
       "      location     price  total_sqft  No. of Bedrooms  School  24X7Security  \\\n",
       "0     Nizampet   6968000        1340                2       0             1   \n",
       "1  Hitech City  29000000        3498                4       0             1   \n",
       "2    Manikonda   6590000        1318                2       0             0   \n",
       "3        Alwal   5739000        1295                3       0             0   \n",
       "4   Kukatpally   5679000        1145                2       0             0   \n",
       "\n",
       "   CarParking  Hospital  LiftAvailable  \n",
       "0           1         0              1  \n",
       "1           1         0              1  \n",
       "2           0         0              0  \n",
       "3           0         0              1  \n",
       "4           1         0              1  "
      ]
     },
     "execution_count": 5,
     "metadata": {},
     "output_type": "execute_result"
    }
   ],
   "source": [
    "Data.head()"
   ]
  },
  {
   "cell_type": "code",
   "execution_count": 6,
   "id": "31ba4159",
   "metadata": {},
   "outputs": [
    {
     "data": {
      "text/html": [
       "<div>\n",
       "<style scoped>\n",
       "    .dataframe tbody tr th:only-of-type {\n",
       "        vertical-align: middle;\n",
       "    }\n",
       "\n",
       "    .dataframe tbody tr th {\n",
       "        vertical-align: top;\n",
       "    }\n",
       "\n",
       "    .dataframe thead th {\n",
       "        text-align: right;\n",
       "    }\n",
       "</style>\n",
       "<table border=\"1\" class=\"dataframe\">\n",
       "  <thead>\n",
       "    <tr style=\"text-align: right;\">\n",
       "      <th></th>\n",
       "      <th>price</th>\n",
       "      <th>total_sqft</th>\n",
       "      <th>No. of Bedrooms</th>\n",
       "      <th>School</th>\n",
       "      <th>24X7Security</th>\n",
       "      <th>CarParking</th>\n",
       "      <th>Hospital</th>\n",
       "      <th>LiftAvailable</th>\n",
       "    </tr>\n",
       "  </thead>\n",
       "  <tbody>\n",
       "    <tr>\n",
       "      <th>count</th>\n",
       "      <td>2.518000e+03</td>\n",
       "      <td>2518.000000</td>\n",
       "      <td>2518.000000</td>\n",
       "      <td>2518.000000</td>\n",
       "      <td>2518.000000</td>\n",
       "      <td>2518.000000</td>\n",
       "      <td>2518.000000</td>\n",
       "      <td>2518.000000</td>\n",
       "    </tr>\n",
       "    <tr>\n",
       "      <th>mean</th>\n",
       "      <td>9.818380e+06</td>\n",
       "      <td>1644.571088</td>\n",
       "      <td>2.623511</td>\n",
       "      <td>0.340747</td>\n",
       "      <td>0.706513</td>\n",
       "      <td>0.736299</td>\n",
       "      <td>0.339952</td>\n",
       "      <td>0.975774</td>\n",
       "    </tr>\n",
       "    <tr>\n",
       "      <th>std</th>\n",
       "      <td>8.777113e+06</td>\n",
       "      <td>746.256956</td>\n",
       "      <td>0.687330</td>\n",
       "      <td>1.620984</td>\n",
       "      <td>1.615641</td>\n",
       "      <td>1.611552</td>\n",
       "      <td>1.620905</td>\n",
       "      <td>1.557725</td>\n",
       "    </tr>\n",
       "    <tr>\n",
       "      <th>min</th>\n",
       "      <td>2.000000e+06</td>\n",
       "      <td>500.000000</td>\n",
       "      <td>1.000000</td>\n",
       "      <td>0.000000</td>\n",
       "      <td>0.000000</td>\n",
       "      <td>0.000000</td>\n",
       "      <td>0.000000</td>\n",
       "      <td>0.000000</td>\n",
       "    </tr>\n",
       "    <tr>\n",
       "      <th>25%</th>\n",
       "      <td>4.760000e+06</td>\n",
       "      <td>1160.000000</td>\n",
       "      <td>2.000000</td>\n",
       "      <td>0.000000</td>\n",
       "      <td>0.000000</td>\n",
       "      <td>0.000000</td>\n",
       "      <td>0.000000</td>\n",
       "      <td>0.000000</td>\n",
       "    </tr>\n",
       "    <tr>\n",
       "      <th>50%</th>\n",
       "      <td>7.754000e+06</td>\n",
       "      <td>1500.000000</td>\n",
       "      <td>3.000000</td>\n",
       "      <td>0.000000</td>\n",
       "      <td>0.000000</td>\n",
       "      <td>0.000000</td>\n",
       "      <td>0.000000</td>\n",
       "      <td>1.000000</td>\n",
       "    </tr>\n",
       "    <tr>\n",
       "      <th>75%</th>\n",
       "      <td>1.090000e+07</td>\n",
       "      <td>1829.000000</td>\n",
       "      <td>3.000000</td>\n",
       "      <td>0.000000</td>\n",
       "      <td>1.000000</td>\n",
       "      <td>1.000000</td>\n",
       "      <td>0.000000</td>\n",
       "      <td>1.000000</td>\n",
       "    </tr>\n",
       "    <tr>\n",
       "      <th>max</th>\n",
       "      <td>1.650000e+08</td>\n",
       "      <td>9400.000000</td>\n",
       "      <td>8.000000</td>\n",
       "      <td>9.000000</td>\n",
       "      <td>9.000000</td>\n",
       "      <td>9.000000</td>\n",
       "      <td>9.000000</td>\n",
       "      <td>9.000000</td>\n",
       "    </tr>\n",
       "  </tbody>\n",
       "</table>\n",
       "</div>"
      ],
      "text/plain": [
       "              price   total_sqft  No. of Bedrooms       School  24X7Security  \\\n",
       "count  2.518000e+03  2518.000000      2518.000000  2518.000000   2518.000000   \n",
       "mean   9.818380e+06  1644.571088         2.623511     0.340747      0.706513   \n",
       "std    8.777113e+06   746.256956         0.687330     1.620984      1.615641   \n",
       "min    2.000000e+06   500.000000         1.000000     0.000000      0.000000   \n",
       "25%    4.760000e+06  1160.000000         2.000000     0.000000      0.000000   \n",
       "50%    7.754000e+06  1500.000000         3.000000     0.000000      0.000000   \n",
       "75%    1.090000e+07  1829.000000         3.000000     0.000000      1.000000   \n",
       "max    1.650000e+08  9400.000000         8.000000     9.000000      9.000000   \n",
       "\n",
       "        CarParking     Hospital  LiftAvailable  \n",
       "count  2518.000000  2518.000000    2518.000000  \n",
       "mean      0.736299     0.339952       0.975774  \n",
       "std       1.611552     1.620905       1.557725  \n",
       "min       0.000000     0.000000       0.000000  \n",
       "25%       0.000000     0.000000       0.000000  \n",
       "50%       0.000000     0.000000       1.000000  \n",
       "75%       1.000000     0.000000       1.000000  \n",
       "max       9.000000     9.000000       9.000000  "
      ]
     },
     "execution_count": 6,
     "metadata": {},
     "output_type": "execute_result"
    }
   ],
   "source": [
    "Data.describe()"
   ]
  },
  {
   "cell_type": "code",
   "execution_count": 7,
   "id": "fed1538a",
   "metadata": {},
   "outputs": [
    {
     "data": {
      "text/plain": [
       "Kukatpally                       166\n",
       "Kondapur                         149\n",
       "Manikonda                        115\n",
       "Nizampet                         106\n",
       "Gachibowli                        83\n",
       "                                ... \n",
       "Basheer Bagh                       1\n",
       "Miyapur HMT Swarnapuri Colony      1\n",
       "Adda Gutta                         1\n",
       "Mayuri Nagar                       1\n",
       "Paradise Circle                    1\n",
       "Name: location, Length: 243, dtype: int64"
      ]
     },
     "execution_count": 7,
     "metadata": {},
     "output_type": "execute_result"
    }
   ],
   "source": [
    "Data[\"location\"].value_counts()"
   ]
  },
  {
   "cell_type": "code",
   "execution_count": 8,
   "id": "67047c6b",
   "metadata": {},
   "outputs": [],
   "source": [
    "Data[\"location\"]=Data[\"location\"].apply(lambda x: x.strip())\n",
    "location_counts=Data[\"location\"].value_counts()"
   ]
  },
  {
   "cell_type": "code",
   "execution_count": 9,
   "id": "9bd2903a",
   "metadata": {},
   "outputs": [
    {
     "data": {
      "text/plain": [
       "Kukatpally                       166\n",
       "Kondapur                         149\n",
       "Manikonda                        115\n",
       "Nizampet                         106\n",
       "Gachibowli                        83\n",
       "                                ... \n",
       "Basheer Bagh                       1\n",
       "Miyapur HMT Swarnapuri Colony      1\n",
       "Adda Gutta                         1\n",
       "Mayuri Nagar                       1\n",
       "Paradise Circle                    1\n",
       "Name: location, Length: 243, dtype: int64"
      ]
     },
     "execution_count": 9,
     "metadata": {},
     "output_type": "execute_result"
    }
   ],
   "source": [
    "location_counts"
   ]
  },
  {
   "cell_type": "code",
   "execution_count": 10,
   "id": "ec6104f6",
   "metadata": {},
   "outputs": [
    {
     "data": {
      "text/plain": [
       "Gandipet                         10\n",
       "Mehdipatnam                      10\n",
       "Somajiguda                        9\n",
       "ECIL                              9\n",
       "Uppal                             9\n",
       "                                 ..\n",
       "Basheer Bagh                      1\n",
       "Miyapur HMT Swarnapuri Colony     1\n",
       "Adda Gutta                        1\n",
       "Mayuri Nagar                      1\n",
       "Paradise Circle                   1\n",
       "Name: location, Length: 189, dtype: int64"
      ]
     },
     "execution_count": 10,
     "metadata": {},
     "output_type": "execute_result"
    }
   ],
   "source": [
    "location_10_counts=location_counts[location_counts<=10]\n",
    "location_10_counts\n"
   ]
  },
  {
   "cell_type": "code",
   "execution_count": 11,
   "id": "2d1d84b9",
   "metadata": {},
   "outputs": [],
   "source": [
    "Data[\"location\"]=Data[\"location\"].apply(lambda x: \"other\" if x in location_10_counts else x)"
   ]
  },
  {
   "cell_type": "code",
   "execution_count": 12,
   "id": "1276238b",
   "metadata": {},
   "outputs": [
    {
     "data": {
      "text/plain": [
       "other                        468\n",
       "Kukatpally                   166\n",
       "Kondapur                     149\n",
       "Manikonda                    115\n",
       "Nizampet                     106\n",
       "Gachibowli                    83\n",
       "Hitech City                   82\n",
       "Miyapur                       80\n",
       "Kokapet                       79\n",
       "Pragathi Nagar Kukatpally     57\n",
       "Bachupally Road               55\n",
       "Narsingi                      52\n",
       "Puppalaguda                   51\n",
       "Beeramguda                    51\n",
       "Nanakramguda                  49\n",
       "Gajularamaram                 48\n",
       "Banjara Hills                 44\n",
       "Appa Junction                 43\n",
       "Tellapur                      43\n",
       "Serilingampally               41\n",
       "Jubilee Hills                 41\n",
       "Krishna Reddy Pet             34\n",
       "Madhapur                      34\n",
       "Nallagandla Gachibowli        32\n",
       "Appa Junction Peerancheru     28\n",
       "Bachupally                    28\n",
       "Malkajgiri                    22\n",
       "Mallampet                     22\n",
       "Begumpet                      21\n",
       "Aminpur                       20\n",
       "Alwal                         20\n",
       "Nacharam                      19\n",
       "Kollur Road                   19\n",
       "Balanagar                     18\n",
       "Sanath Nagar                  18\n",
       "Mallapur                      18\n",
       "Chandanagar                   17\n",
       "Attapur                       17\n",
       "West Marredpally              17\n",
       "Nagole                        16\n",
       "Kompally                      16\n",
       "Patancheru                    15\n",
       "Bandlaguda Jagir              15\n",
       "LB Nagar                      14\n",
       "Adibatla                      14\n",
       "East Marredpally              14\n",
       "Shaikpet                      13\n",
       "Tarnaka                       13\n",
       "Nallakunta                    12\n",
       "Gajulramaram Kukatpally       12\n",
       "Toli Chowki                   12\n",
       "Madinaguda                    12\n",
       "Darga Khaliz Khan             11\n",
       "TellapurOsman Nagar Road      11\n",
       "Kachiguda                     11\n",
       "Name: location, dtype: int64"
      ]
     },
     "execution_count": 12,
     "metadata": {},
     "output_type": "execute_result"
    }
   ],
   "source": [
    "Data[\"location\"].value_counts()"
   ]
  },
  {
   "cell_type": "code",
   "execution_count": 13,
   "id": "afb6d7cd",
   "metadata": {},
   "outputs": [],
   "source": [
    "Data[\"price_per_sqft\"]=(Data[\"price\"]/Data[\"total_sqft\"])*100000"
   ]
  },
  {
   "cell_type": "code",
   "execution_count": 14,
   "id": "e625d692",
   "metadata": {},
   "outputs": [
    {
     "data": {
      "text/plain": [
       "count    2.518000e+03\n",
       "mean     5.488335e+08\n",
       "std      2.417874e+08\n",
       "min      1.055000e+08\n",
       "25%      4.000000e+08\n",
       "50%      5.000000e+08\n",
       "75%      6.477659e+08\n",
       "max      6.000000e+09\n",
       "Name: price_per_sqft, dtype: float64"
      ]
     },
     "execution_count": 14,
     "metadata": {},
     "output_type": "execute_result"
    }
   ],
   "source": [
    "Data[\"price_per_sqft\"].describe()"
   ]
  },
  {
   "cell_type": "code",
   "execution_count": 15,
   "id": "8a84e4c1",
   "metadata": {
    "scrolled": true
   },
   "outputs": [
    {
     "data": {
      "text/html": [
       "<div>\n",
       "<style scoped>\n",
       "    .dataframe tbody tr th:only-of-type {\n",
       "        vertical-align: middle;\n",
       "    }\n",
       "\n",
       "    .dataframe tbody tr th {\n",
       "        vertical-align: top;\n",
       "    }\n",
       "\n",
       "    .dataframe thead th {\n",
       "        text-align: right;\n",
       "    }\n",
       "</style>\n",
       "<table border=\"1\" class=\"dataframe\">\n",
       "  <thead>\n",
       "    <tr style=\"text-align: right;\">\n",
       "      <th></th>\n",
       "      <th>price</th>\n",
       "      <th>total_sqft</th>\n",
       "      <th>No. of Bedrooms</th>\n",
       "      <th>School</th>\n",
       "      <th>24X7Security</th>\n",
       "      <th>CarParking</th>\n",
       "      <th>Hospital</th>\n",
       "      <th>LiftAvailable</th>\n",
       "      <th>price_per_sqft</th>\n",
       "    </tr>\n",
       "  </thead>\n",
       "  <tbody>\n",
       "    <tr>\n",
       "      <th>count</th>\n",
       "      <td>1.963000e+03</td>\n",
       "      <td>1963.000000</td>\n",
       "      <td>1963.000000</td>\n",
       "      <td>1963.000000</td>\n",
       "      <td>1963.000000</td>\n",
       "      <td>1963.000000</td>\n",
       "      <td>1963.000000</td>\n",
       "      <td>1963.000000</td>\n",
       "      <td>1.963000e+03</td>\n",
       "    </tr>\n",
       "    <tr>\n",
       "      <th>mean</th>\n",
       "      <td>9.251986e+06</td>\n",
       "      <td>1613.786551</td>\n",
       "      <td>2.612837</td>\n",
       "      <td>0.202241</td>\n",
       "      <td>0.576159</td>\n",
       "      <td>0.612837</td>\n",
       "      <td>0.197657</td>\n",
       "      <td>0.855833</td>\n",
       "      <td>5.329551e+08</td>\n",
       "    </tr>\n",
       "    <tr>\n",
       "      <th>std</th>\n",
       "      <td>6.915921e+06</td>\n",
       "      <td>661.379307</td>\n",
       "      <td>0.661970</td>\n",
       "      <td>1.232567</td>\n",
       "      <td>1.265750</td>\n",
       "      <td>1.263007</td>\n",
       "      <td>1.231449</td>\n",
       "      <td>1.217064</td>\n",
       "      <td>1.682728e+08</td>\n",
       "    </tr>\n",
       "    <tr>\n",
       "      <th>min</th>\n",
       "      <td>2.022000e+06</td>\n",
       "      <td>540.000000</td>\n",
       "      <td>1.000000</td>\n",
       "      <td>0.000000</td>\n",
       "      <td>0.000000</td>\n",
       "      <td>0.000000</td>\n",
       "      <td>0.000000</td>\n",
       "      <td>0.000000</td>\n",
       "      <td>2.000000e+08</td>\n",
       "    </tr>\n",
       "    <tr>\n",
       "      <th>25%</th>\n",
       "      <td>4.800000e+06</td>\n",
       "      <td>1165.000000</td>\n",
       "      <td>2.000000</td>\n",
       "      <td>0.000000</td>\n",
       "      <td>0.000000</td>\n",
       "      <td>0.000000</td>\n",
       "      <td>0.000000</td>\n",
       "      <td>0.000000</td>\n",
       "      <td>4.016548e+08</td>\n",
       "    </tr>\n",
       "    <tr>\n",
       "      <th>50%</th>\n",
       "      <td>7.533000e+06</td>\n",
       "      <td>1500.000000</td>\n",
       "      <td>3.000000</td>\n",
       "      <td>0.000000</td>\n",
       "      <td>0.000000</td>\n",
       "      <td>0.000000</td>\n",
       "      <td>0.000000</td>\n",
       "      <td>1.000000</td>\n",
       "      <td>4.998750e+08</td>\n",
       "    </tr>\n",
       "    <tr>\n",
       "      <th>75%</th>\n",
       "      <td>1.070000e+07</td>\n",
       "      <td>1800.000000</td>\n",
       "      <td>3.000000</td>\n",
       "      <td>0.000000</td>\n",
       "      <td>1.000000</td>\n",
       "      <td>1.000000</td>\n",
       "      <td>0.000000</td>\n",
       "      <td>1.000000</td>\n",
       "      <td>6.376066e+08</td>\n",
       "    </tr>\n",
       "    <tr>\n",
       "      <th>max</th>\n",
       "      <td>6.640000e+07</td>\n",
       "      <td>6718.000000</td>\n",
       "      <td>6.000000</td>\n",
       "      <td>9.000000</td>\n",
       "      <td>9.000000</td>\n",
       "      <td>9.000000</td>\n",
       "      <td>9.000000</td>\n",
       "      <td>9.000000</td>\n",
       "      <td>1.210526e+09</td>\n",
       "    </tr>\n",
       "  </tbody>\n",
       "</table>\n",
       "</div>"
      ],
      "text/plain": [
       "              price   total_sqft  No. of Bedrooms       School  24X7Security  \\\n",
       "count  1.963000e+03  1963.000000      1963.000000  1963.000000   1963.000000   \n",
       "mean   9.251986e+06  1613.786551         2.612837     0.202241      0.576159   \n",
       "std    6.915921e+06   661.379307         0.661970     1.232567      1.265750   \n",
       "min    2.022000e+06   540.000000         1.000000     0.000000      0.000000   \n",
       "25%    4.800000e+06  1165.000000         2.000000     0.000000      0.000000   \n",
       "50%    7.533000e+06  1500.000000         3.000000     0.000000      0.000000   \n",
       "75%    1.070000e+07  1800.000000         3.000000     0.000000      1.000000   \n",
       "max    6.640000e+07  6718.000000         6.000000     9.000000      9.000000   \n",
       "\n",
       "        CarParking     Hospital  LiftAvailable  price_per_sqft  \n",
       "count  1963.000000  1963.000000    1963.000000    1.963000e+03  \n",
       "mean      0.612837     0.197657       0.855833    5.329551e+08  \n",
       "std       1.263007     1.231449       1.217064    1.682728e+08  \n",
       "min       0.000000     0.000000       0.000000    2.000000e+08  \n",
       "25%       0.000000     0.000000       0.000000    4.016548e+08  \n",
       "50%       0.000000     0.000000       1.000000    4.998750e+08  \n",
       "75%       1.000000     0.000000       1.000000    6.376066e+08  \n",
       "max       9.000000     9.000000       9.000000    1.210526e+09  "
      ]
     },
     "execution_count": 15,
     "metadata": {},
     "output_type": "execute_result"
    }
   ],
   "source": [
    "def sqft_outlier_removal(df):\n",
    "    op_df=pd.DataFrame()\n",
    "    for location,subdf in df.groupby(\"location\"):\n",
    "        m=np.mean(subdf.price_per_sqft)\n",
    "        sd=np.std(subdf.price_per_sqft)\n",
    "        \n",
    "        gen_df=subdf[(subdf.price_per_sqft>(m-sd)) & (subdf.price_per_sqft<=(m+sd))]\n",
    "        op_df=pd.concat([op_df,gen_df], ignore_index=True)\n",
    "    return op_df\n",
    "Data=sqft_outlier_removal(Data)\n",
    "Data.describe() "
   ]
  },
  {
   "cell_type": "code",
   "execution_count": 16,
   "id": "97ca20d0",
   "metadata": {},
   "outputs": [
    {
     "data": {
      "text/html": [
       "<div>\n",
       "<style scoped>\n",
       "    .dataframe tbody tr th:only-of-type {\n",
       "        vertical-align: middle;\n",
       "    }\n",
       "\n",
       "    .dataframe tbody tr th {\n",
       "        vertical-align: top;\n",
       "    }\n",
       "\n",
       "    .dataframe thead th {\n",
       "        text-align: right;\n",
       "    }\n",
       "</style>\n",
       "<table border=\"1\" class=\"dataframe\">\n",
       "  <thead>\n",
       "    <tr style=\"text-align: right;\">\n",
       "      <th></th>\n",
       "      <th>location</th>\n",
       "      <th>price</th>\n",
       "      <th>total_sqft</th>\n",
       "      <th>No. of Bedrooms</th>\n",
       "      <th>School</th>\n",
       "      <th>24X7Security</th>\n",
       "      <th>CarParking</th>\n",
       "      <th>Hospital</th>\n",
       "      <th>LiftAvailable</th>\n",
       "      <th>price_per_sqft</th>\n",
       "    </tr>\n",
       "  </thead>\n",
       "  <tbody>\n",
       "    <tr>\n",
       "      <th>0</th>\n",
       "      <td>Adibatla</td>\n",
       "      <td>2800000</td>\n",
       "      <td>1400</td>\n",
       "      <td>3</td>\n",
       "      <td>0</td>\n",
       "      <td>0</td>\n",
       "      <td>0</td>\n",
       "      <td>0</td>\n",
       "      <td>0</td>\n",
       "      <td>2.000000e+08</td>\n",
       "    </tr>\n",
       "    <tr>\n",
       "      <th>1</th>\n",
       "      <td>Adibatla</td>\n",
       "      <td>2800000</td>\n",
       "      <td>1400</td>\n",
       "      <td>3</td>\n",
       "      <td>0</td>\n",
       "      <td>0</td>\n",
       "      <td>0</td>\n",
       "      <td>0</td>\n",
       "      <td>0</td>\n",
       "      <td>2.000000e+08</td>\n",
       "    </tr>\n",
       "    <tr>\n",
       "      <th>2</th>\n",
       "      <td>Adibatla</td>\n",
       "      <td>2022000</td>\n",
       "      <td>1010</td>\n",
       "      <td>2</td>\n",
       "      <td>0</td>\n",
       "      <td>0</td>\n",
       "      <td>0</td>\n",
       "      <td>0</td>\n",
       "      <td>0</td>\n",
       "      <td>2.001980e+08</td>\n",
       "    </tr>\n",
       "    <tr>\n",
       "      <th>3</th>\n",
       "      <td>Adibatla</td>\n",
       "      <td>2200000</td>\n",
       "      <td>1050</td>\n",
       "      <td>2</td>\n",
       "      <td>0</td>\n",
       "      <td>0</td>\n",
       "      <td>0</td>\n",
       "      <td>0</td>\n",
       "      <td>0</td>\n",
       "      <td>2.095238e+08</td>\n",
       "    </tr>\n",
       "    <tr>\n",
       "      <th>4</th>\n",
       "      <td>Adibatla</td>\n",
       "      <td>2800000</td>\n",
       "      <td>1200</td>\n",
       "      <td>2</td>\n",
       "      <td>0</td>\n",
       "      <td>0</td>\n",
       "      <td>0</td>\n",
       "      <td>0</td>\n",
       "      <td>0</td>\n",
       "      <td>2.333333e+08</td>\n",
       "    </tr>\n",
       "    <tr>\n",
       "      <th>...</th>\n",
       "      <td>...</td>\n",
       "      <td>...</td>\n",
       "      <td>...</td>\n",
       "      <td>...</td>\n",
       "      <td>...</td>\n",
       "      <td>...</td>\n",
       "      <td>...</td>\n",
       "      <td>...</td>\n",
       "      <td>...</td>\n",
       "      <td>...</td>\n",
       "    </tr>\n",
       "    <tr>\n",
       "      <th>1958</th>\n",
       "      <td>other</td>\n",
       "      <td>7584999</td>\n",
       "      <td>1250</td>\n",
       "      <td>2</td>\n",
       "      <td>9</td>\n",
       "      <td>9</td>\n",
       "      <td>9</td>\n",
       "      <td>9</td>\n",
       "      <td>9</td>\n",
       "      <td>6.067999e+08</td>\n",
       "    </tr>\n",
       "    <tr>\n",
       "      <th>1959</th>\n",
       "      <td>other</td>\n",
       "      <td>5250000</td>\n",
       "      <td>1485</td>\n",
       "      <td>3</td>\n",
       "      <td>9</td>\n",
       "      <td>9</td>\n",
       "      <td>9</td>\n",
       "      <td>9</td>\n",
       "      <td>9</td>\n",
       "      <td>3.535354e+08</td>\n",
       "    </tr>\n",
       "    <tr>\n",
       "      <th>1960</th>\n",
       "      <td>other</td>\n",
       "      <td>9800000</td>\n",
       "      <td>1650</td>\n",
       "      <td>2</td>\n",
       "      <td>9</td>\n",
       "      <td>9</td>\n",
       "      <td>9</td>\n",
       "      <td>9</td>\n",
       "      <td>9</td>\n",
       "      <td>5.939394e+08</td>\n",
       "    </tr>\n",
       "    <tr>\n",
       "      <th>1961</th>\n",
       "      <td>other</td>\n",
       "      <td>7500000</td>\n",
       "      <td>1550</td>\n",
       "      <td>2</td>\n",
       "      <td>9</td>\n",
       "      <td>9</td>\n",
       "      <td>9</td>\n",
       "      <td>9</td>\n",
       "      <td>9</td>\n",
       "      <td>4.838710e+08</td>\n",
       "    </tr>\n",
       "    <tr>\n",
       "      <th>1962</th>\n",
       "      <td>other</td>\n",
       "      <td>4000000</td>\n",
       "      <td>1060</td>\n",
       "      <td>2</td>\n",
       "      <td>9</td>\n",
       "      <td>9</td>\n",
       "      <td>9</td>\n",
       "      <td>9</td>\n",
       "      <td>9</td>\n",
       "      <td>3.773585e+08</td>\n",
       "    </tr>\n",
       "  </tbody>\n",
       "</table>\n",
       "<p>1963 rows × 10 columns</p>\n",
       "</div>"
      ],
      "text/plain": [
       "      location    price  total_sqft  No. of Bedrooms  School  24X7Security  \\\n",
       "0     Adibatla  2800000        1400                3       0             0   \n",
       "1     Adibatla  2800000        1400                3       0             0   \n",
       "2     Adibatla  2022000        1010                2       0             0   \n",
       "3     Adibatla  2200000        1050                2       0             0   \n",
       "4     Adibatla  2800000        1200                2       0             0   \n",
       "...        ...      ...         ...              ...     ...           ...   \n",
       "1958     other  7584999        1250                2       9             9   \n",
       "1959     other  5250000        1485                3       9             9   \n",
       "1960     other  9800000        1650                2       9             9   \n",
       "1961     other  7500000        1550                2       9             9   \n",
       "1962     other  4000000        1060                2       9             9   \n",
       "\n",
       "      CarParking  Hospital  LiftAvailable  price_per_sqft  \n",
       "0              0         0              0    2.000000e+08  \n",
       "1              0         0              0    2.000000e+08  \n",
       "2              0         0              0    2.001980e+08  \n",
       "3              0         0              0    2.095238e+08  \n",
       "4              0         0              0    2.333333e+08  \n",
       "...          ...       ...            ...             ...  \n",
       "1958           9         9              9    6.067999e+08  \n",
       "1959           9         9              9    3.535354e+08  \n",
       "1960           9         9              9    5.939394e+08  \n",
       "1961           9         9              9    4.838710e+08  \n",
       "1962           9         9              9    3.773585e+08  \n",
       "\n",
       "[1963 rows x 10 columns]"
      ]
     },
     "execution_count": 16,
     "metadata": {},
     "output_type": "execute_result"
    }
   ],
   "source": [
    "Data"
   ]
  },
  {
   "cell_type": "code",
   "execution_count": 17,
   "id": "e61a035d",
   "metadata": {},
   "outputs": [],
   "source": [
    "from sklearn.preprocessing import LabelEncoder"
   ]
  },
  {
   "cell_type": "code",
   "execution_count": 18,
   "id": "5d0a42a4",
   "metadata": {},
   "outputs": [],
   "source": [
    "le = LabelEncoder()"
   ]
  },
  {
   "cell_type": "code",
   "execution_count": null,
   "id": "1ff96537",
   "metadata": {},
   "outputs": [],
   "source": []
  },
  {
   "cell_type": "code",
   "execution_count": 19,
   "id": "cf45bd67",
   "metadata": {},
   "outputs": [],
   "source": [
    "Data['location'] = le.fit_transform(Data['location'].values)"
   ]
  },
  {
   "cell_type": "code",
   "execution_count": 20,
   "id": "98ab4feb",
   "metadata": {},
   "outputs": [],
   "source": [
    "Data.drop(\"price_per_sqft\",axis=1,inplace=True)"
   ]
  },
  {
   "cell_type": "code",
   "execution_count": 21,
   "id": "652f46f3",
   "metadata": {},
   "outputs": [],
   "source": [
    "Data.to_csv(\"Clean1_data.csv\",index=False)"
   ]
  },
  {
   "cell_type": "code",
   "execution_count": 22,
   "id": "1568383e",
   "metadata": {},
   "outputs": [],
   "source": [
    "x=Data.drop(\"price\",axis=1)"
   ]
  },
  {
   "cell_type": "code",
   "execution_count": 23,
   "id": "b3aa8f2f",
   "metadata": {},
   "outputs": [],
   "source": [
    "y=Data[\"price\"]"
   ]
  },
  {
   "cell_type": "code",
   "execution_count": 24,
   "id": "19f4bccd",
   "metadata": {},
   "outputs": [],
   "source": [
    "from sklearn.model_selection import train_test_split\n",
    "from sklearn.linear_model import LinearRegression,Lasso,Ridge\n",
    "from sklearn.preprocessing import OneHotEncoder, StandardScaler\n",
    "from sklearn.compose import make_column_transformer\n",
    "from sklearn.pipeline import make_pipeline\n",
    "from sklearn.metrics import r2_score"
   ]
  },
  {
   "cell_type": "code",
   "execution_count": 25,
   "id": "62009e19",
   "metadata": {},
   "outputs": [],
   "source": [
    "x_train,x_test,y_train,y_test=train_test_split(x,y,test_size=0.10,random_state=16)"
   ]
  },
  {
   "cell_type": "code",
   "execution_count": 26,
   "id": "6616f594",
   "metadata": {},
   "outputs": [
    {
     "data": {
      "text/plain": [
       "((1766, 8), (1766,), (197, 8), (197,))"
      ]
     },
     "execution_count": 26,
     "metadata": {},
     "output_type": "execute_result"
    }
   ],
   "source": [
    "x_train.shape,y_train.shape,x_test.shape,y_test.shape"
   ]
  },
  {
   "cell_type": "markdown",
   "id": "a8408eb8",
   "metadata": {},
   "source": [
    "# Linear Regression"
   ]
  },
  {
   "cell_type": "code",
   "execution_count": 27,
   "id": "475c9891",
   "metadata": {},
   "outputs": [],
   "source": [
    "model = LinearRegression()"
   ]
  },
  {
   "cell_type": "markdown",
   "id": "cb771289",
   "metadata": {},
   "source": [
    "model.fit(x_train,y_train)"
   ]
  },
  {
   "cell_type": "code",
   "execution_count": 28,
   "id": "51ab445a",
   "metadata": {},
   "outputs": [
    {
     "data": {
      "text/plain": [
       "LinearRegression()"
      ]
     },
     "execution_count": 28,
     "metadata": {},
     "output_type": "execute_result"
    }
   ],
   "source": [
    "model.fit(x_train,y_train)"
   ]
  },
  {
   "cell_type": "code",
   "execution_count": 29,
   "id": "433fb6c5",
   "metadata": {},
   "outputs": [],
   "source": [
    "y_pred = model.predict(x_test)"
   ]
  },
  {
   "cell_type": "code",
   "execution_count": 30,
   "id": "58efd858",
   "metadata": {},
   "outputs": [
    {
     "data": {
      "text/plain": [
       "array([ 9099653.6047467 ,  6612782.83467627,  5891729.58768514,\n",
       "       23149431.3166291 , 12344901.56067684,  3512036.5437458 ,\n",
       "        3050959.69083667,  9099653.6047467 ,  9406394.84979956,\n",
       "        3043647.49330524,  1253455.33041681, 11470799.75146987,\n",
       "        9804466.80576829,  4661983.56831625,  9592923.74768729,\n",
       "        9391878.31478088,  4464805.61146583,  4092650.0345419 ,\n",
       "        7266389.23714925,  5480507.62660053,  7098553.25471785,\n",
       "        4512299.00583832, 12937725.11496029,  9621392.98324542,\n",
       "        4402927.51229273, 40836948.8277902 , 11468198.52188234,\n",
       "        3674467.91845585,  4173372.04736385,  7519988.43681026,\n",
       "        1623280.52107685,  5791899.91703173,  5944749.10798084,\n",
       "        9491959.70265672,  2246371.8450824 ,  7266389.23714925,\n",
       "       14228677.9327012 ,  5377282.84502105, 27721749.33844559,\n",
       "       11497047.37387269,  7802326.23067658,  9727660.20648096,\n",
       "       19026399.1813739 ,  8478727.04501825, 12124643.24798656,\n",
       "       15146660.0574121 , 12912926.18668764,  9672351.13825895,\n",
       "        7924372.72611634, 10842952.16013357, 27711332.43500853,\n",
       "        6167100.23542247,  7509051.56904568,  8509594.26333023,\n",
       "        7384580.57990097,  4065798.65238666,  3601748.96566321,\n",
       "        5445341.50275475,  9957023.87675297,  4697381.84768765,\n",
       "        9957023.87675297, 13270131.02183552, 12412037.10307247,\n",
       "        9343150.22072367,  3564121.06093107,  5945532.67730318,\n",
       "        4092650.0345419 , 20936617.34862994,  5134340.37824714,\n",
       "       12937725.11496029,  2652264.41341873, 10433568.65848611,\n",
       "        5945532.67730318,  5680982.08401343,  9982628.61600978,\n",
       "        1173687.44680652,  9288632.4734941 ,  2777633.92037207,\n",
       "        1517188.60448874, 11501336.06470485,  5222163.66784243,\n",
       "        8768141.90451757,  2945284.67786219,  9982628.61600978,\n",
       "       28069806.15471666,  9099653.6047467 ,  3835200.28242991,\n",
       "        9099653.6047467 , 16717179.2463627 , 12323087.45130544,\n",
       "        7918566.50718886,  6101434.18632898, 18642860.58671432,\n",
       "       10561736.12820192, 13674328.63006305,  3777913.3060696 ,\n",
       "       23627906.28768403, 28069806.15471666, 10561736.12820192,\n",
       "        8113411.77796463, 13060306.53618732,  7327444.60173317,\n",
       "        4697381.84768765,  9286242.4252    ,  5292587.46805636,\n",
       "       11356585.41788908, 12937725.11496029, 12304543.19235764,\n",
       "        5500909.90668228,  4347618.44407073,  4090168.69195874,\n",
       "       14802722.43441945,  9260558.20168083,  9028727.81200436,\n",
       "       19572729.20547897,  6676190.78531265, 10457567.0938314 ,\n",
       "        4307465.79807174,  4718387.88752183, 14229421.14115478,\n",
       "        8627153.37323315,  4983049.55373092,  6541717.59323277,\n",
       "        7951704.05001137,  2371631.34206753,  4402927.51229273,\n",
       "       33459605.11112747, 17522517.17207917,  5712824.56899006,\n",
       "       18031027.49679522, 10092975.47353457,  4092650.0345419 ,\n",
       "       15312215.69972457,  7924372.72611634,  8725482.10049969,\n",
       "       23513320.34987646,  4032881.71559842,  4715434.6154043 ,\n",
       "        8768141.90451757,  8636055.04838564,  2757056.76923847,\n",
       "        6411651.74151425,  5840608.88498772, 21656109.89288943,\n",
       "       10135583.0289113 ,  9778629.91098585,  9286242.4252    ,\n",
       "       11715579.17967043, 16453081.23957259,  8421951.12158588,\n",
       "       34432194.84956992,  4697381.84768765,  4697381.84768765,\n",
       "        5074572.05930365,  6930667.70361032,  3780866.57818712,\n",
       "       28611456.32206599,  5030171.34387661,  5435272.40843085,\n",
       "        8924563.71615192,  5015172.56730738,  9129670.57287192,\n",
       "        8990216.58398315,  7802326.23067658,  6436433.74618188,\n",
       "        5422849.04601342, 12822395.96869914,  9653746.95674558,\n",
       "       11497047.37387269,  7479272.65246296,  6549533.26708229,\n",
       "       15503256.19428948, 20267125.50306349, 11497047.37387269,\n",
       "        6311610.71450718,  4661983.56831625,  3489524.52530768,\n",
       "       11649704.77016494,  4090168.69195874,  8684483.44586856,\n",
       "       33271194.65752748,  8851302.33870783,  8711454.71502817,\n",
       "        4032881.71559842,  1949501.02818796, 35315700.75543413,\n",
       "         581810.78340589, 17932272.27795342,  6828728.29460053,\n",
       "        6260449.650941  ,  8084330.77044866,  9220679.4368204 ,\n",
       "        4697381.84768765,  6104015.85421971,  8339330.29116564,\n",
       "       11523255.87288192,  6235918.92790021])"
      ]
     },
     "execution_count": 30,
     "metadata": {},
     "output_type": "execute_result"
    }
   ],
   "source": [
    "y_pred"
   ]
  },
  {
   "cell_type": "code",
   "execution_count": 31,
   "id": "85daf85f",
   "metadata": {},
   "outputs": [
    {
     "name": "stdout",
     "output_type": "stream",
     "text": [
      "<class 'pandas.core.frame.DataFrame'>\n",
      "Int64Index: 197 entries, 1499 to 4\n",
      "Data columns (total 8 columns):\n",
      " #   Column           Non-Null Count  Dtype\n",
      "---  ------           --------------  -----\n",
      " 0   location         197 non-null    int32\n",
      " 1   total_sqft       197 non-null    int64\n",
      " 2   No. of Bedrooms  197 non-null    int64\n",
      " 3   School           197 non-null    int64\n",
      " 4   24X7Security     197 non-null    int64\n",
      " 5   CarParking       197 non-null    int64\n",
      " 6   Hospital         197 non-null    int64\n",
      " 7   LiftAvailable    197 non-null    int64\n",
      "dtypes: int32(1), int64(7)\n",
      "memory usage: 13.1 KB\n"
     ]
    }
   ],
   "source": [
    "x_test.info()"
   ]
  },
  {
   "cell_type": "code",
   "execution_count": 32,
   "id": "b3d1e1b4",
   "metadata": {},
   "outputs": [
    {
     "name": "stdout",
     "output_type": "stream",
     "text": [
      "[6041992.63101216]\n"
     ]
    },
    {
     "name": "stderr",
     "output_type": "stream",
     "text": [
      "C:\\Users\\Mamilla Manoj\\AppData\\Local\\Programs\\Python\\Python310\\lib\\site-packages\\sklearn\\base.py:450: UserWarning: X does not have valid feature names, but LinearRegression was fitted with feature names\n",
      "  warnings.warn(\n"
     ]
    }
   ],
   "source": [
    "pred = model.predict([[0,1200,2,0,1,0,1,0]])\n",
    "print(pred)"
   ]
  },
  {
   "cell_type": "code",
   "execution_count": 33,
   "id": "9259ba21",
   "metadata": {},
   "outputs": [
    {
     "name": "stdout",
     "output_type": "stream",
     "text": [
      "Traning accuracy : 0.8488198024089031\n",
      "Test accuracy : 0.7910983100017488\n"
     ]
    }
   ],
   "source": [
    "print('Traning accuracy :',model.score(x_train,y_train))\n",
    "print('Test accuracy :',model.score(x_test,y_test))"
   ]
  },
  {
   "cell_type": "markdown",
   "id": "658a4053",
   "metadata": {},
   "source": [
    "# lasso"
   ]
  },
  {
   "cell_type": "code",
   "execution_count": 34,
   "id": "39699cd5",
   "metadata": {},
   "outputs": [],
   "source": [
    "lasso = Lasso()"
   ]
  },
  {
   "cell_type": "code",
   "execution_count": 36,
   "id": "16ba4f8d",
   "metadata": {},
   "outputs": [
    {
     "name": "stderr",
     "output_type": "stream",
     "text": [
      "C:\\Users\\Mamilla Manoj\\AppData\\Local\\Programs\\Python\\Python310\\lib\\site-packages\\sklearn\\linear_model\\_coordinate_descent.py:647: ConvergenceWarning: Objective did not converge. You might want to increase the number of iterations, check the scale of the features or consider increasing regularisation. Duality gap: 6.125e+15, tolerance: 8.326e+12\n",
      "  model = cd_fast.enet_coordinate_descent(\n"
     ]
    },
    {
     "data": {
      "text/plain": [
       "Lasso()"
      ]
     },
     "execution_count": 36,
     "metadata": {},
     "output_type": "execute_result"
    }
   ],
   "source": [
    "lasso.fit(x_train,y_train)"
   ]
  },
  {
   "cell_type": "code",
   "execution_count": 37,
   "id": "e1bdcf41",
   "metadata": {},
   "outputs": [],
   "source": [
    "y_pred = lasso.predict(x_test)"
   ]
  },
  {
   "cell_type": "code",
   "execution_count": 38,
   "id": "9d430417",
   "metadata": {},
   "outputs": [
    {
     "data": {
      "text/plain": [
       "array([ 9099682.30615282,  6612634.44568842,  5891416.11440643,\n",
       "       23149479.83626634, 12344799.99307417,  3511826.88338895,\n",
       "        3050989.41757561,  9099682.30615282,  9406431.46470119,\n",
       "        3043431.3393842 ,  1253205.79670184, 11470824.23428423,\n",
       "        9804479.2663911 ,  4661731.56414074,  9592643.39097651,\n",
       "        9391841.22033196,  4464544.0334884 ,  4092684.5687829 ,\n",
       "        7266086.43996152,  5480459.76192231,  7098855.38894276,\n",
       "        4512300.82157401, 12937778.02729388,  9621360.40639602,\n",
       "        4402989.46991393, 40852910.64580783, 11468253.31601456,\n",
       "        3674516.19355139,  4173315.98417643,  7519894.05155176,\n",
       "        1623249.51014716,  5791866.48516892,  5944485.69627979,\n",
       "        9491970.72102892,  2246297.25779997,  7266086.43996152,\n",
       "       14228745.46671386,  5377274.87376015, 27721773.88619902,\n",
       "       11497071.46867818,  7802226.17536011,  9727658.8077799 ,\n",
       "       19026419.54688376,  8478705.22985223, 12124638.25907772,\n",
       "       15146656.01969442, 12912776.07493072,  9672055.98645189,\n",
       "        7924382.13424115, 10842677.57242524, 27711356.93468694,\n",
       "        6167127.01583949,  7509098.41194433,  8509504.44519868,\n",
       "        7384558.04704606,  4065511.40748549,  3601735.74936395,\n",
       "        5445397.95060377,  9957082.01728145,  4697352.02832422,\n",
       "        9957082.01728145, 13270135.65136721, 12412022.61075604,\n",
       "        9343195.2075517 ,  3563911.64094932,  5945528.62098584,\n",
       "        4092684.5687829 , 20936699.84848468,  5134379.71999018,\n",
       "       12937778.02729388,  2651994.47038773, 10433536.37153925,\n",
       "        5945528.62098584,  5680756.44213125,  9982360.88758292,\n",
       "        1173734.50117136,  9288690.66655455,  2777561.78491568,\n",
       "        1517110.65195487, 11501361.56198347,  5222143.64178913,\n",
       "        8768155.20671905,  2945329.58770629,  9982360.88758292,\n",
       "       28069844.79535165,  9099682.30615282,  3835198.97328928,\n",
       "        9099682.30615282, 16717195.91458063, 12322869.51145259,\n",
       "        7918314.37079833,  6101436.83822291, 18642849.73236976,\n",
       "       10561728.25822827, 13674344.25093979,  3777972.37918956,\n",
       "       23627911.9419544 , 28069844.79535165, 10561728.25822827,\n",
       "        8113398.59744713, 13060327.52497165,  7327427.42950885,\n",
       "        4697352.02832422,  9286223.82765164,  5308414.69518263,\n",
       "       11356605.04168995, 12937778.02729388, 12304568.84788309,\n",
       "        5500596.79568444,  4347386.64858593,  4089901.05309231,\n",
       "       14802779.62199344,  9260594.14353217,  9028605.25927907,\n",
       "       19572758.59020979,  6675896.96759611, 10457558.74310754,\n",
       "        4307530.45235104,  4718414.98898982, 14229480.01479091,\n",
       "        8626826.113902  ,  4982820.69082237,  6541748.77764109,\n",
       "        7951422.61676725,  2371683.92505973,  4402989.46991393,\n",
       "       33459677.79915852, 17522785.10774757,  5712799.94513756,\n",
       "       18031049.76642302, 10092965.44018499,  4092684.5687829 ,\n",
       "       15312225.42177201,  7924382.13424115,  8725306.45692207,\n",
       "       23513325.4753216 ,  4032674.45899259,  4715498.01527612,\n",
       "        8768155.20671905,  8635752.94801991,  2757111.13100643,\n",
       "        6411412.14413045,  5840337.20239914, 21656148.89262436,\n",
       "       10135421.44820173,  9778641.74322468,  9286223.82765164,\n",
       "       11715590.09263157, 16453086.27060331,  8421654.53096463,\n",
       "       34432252.97466187,  4697352.02832422,  4697352.02832422,\n",
       "        5074369.61019988,  6930444.37078154,  3780889.35290326,\n",
       "       28611505.25273937,  5030210.20486945,  5435249.13172716,\n",
       "        8924239.1218138 ,  5015465.0865282 ,  9129685.98559277,\n",
       "        9006065.20792996,  7802226.17536011,  6436477.44040478,\n",
       "        5422865.89378407, 12822457.01258403,  9653425.72765889,\n",
       "       11497071.46867818,  7479098.81262316,  6549594.81088349,\n",
       "       15503286.29157199, 20267138.598936  , 11497071.46867818,\n",
       "        6311591.02006249,  4661731.56414074,  3489273.60797476,\n",
       "       11649440.4035531 ,  4089901.05309231,  8684494.56041851,\n",
       "       33271208.86886828,  8851295.70085007,  8711455.12429501,\n",
       "        4032674.45899259,  1949284.15657803, 35315752.55974019,\n",
       "         581825.6564159 , 17932293.58267209,  6828478.49989196,\n",
       "        6260203.7314262 ,  8084021.79191857,  9220433.30980744,\n",
       "        4697352.02832422,  6103986.53789808,  8339032.44570502,\n",
       "       11523276.26588312,  6235872.38356685])"
      ]
     },
     "execution_count": 38,
     "metadata": {},
     "output_type": "execute_result"
    }
   ],
   "source": [
    "y_pred"
   ]
  },
  {
   "cell_type": "code",
   "execution_count": 39,
   "id": "67cfbf87",
   "metadata": {},
   "outputs": [
    {
     "name": "stdout",
     "output_type": "stream",
     "text": [
      "Traning accuracy : 0.8488197778115828\n",
      "Test accuracy : 0.7911061140176334\n"
     ]
    }
   ],
   "source": [
    "print('Traning accuracy :',lasso.score(x_train,y_train))\n",
    "print('Test accuracy :',lasso.score(x_test,y_test))"
   ]
  },
  {
   "cell_type": "code",
   "execution_count": 40,
   "id": "b8364ef2",
   "metadata": {},
   "outputs": [
    {
     "name": "stdout",
     "output_type": "stream",
     "text": [
      "[6026191.68090284]\n"
     ]
    },
    {
     "name": "stderr",
     "output_type": "stream",
     "text": [
      "C:\\Users\\Mamilla Manoj\\AppData\\Local\\Programs\\Python\\Python310\\lib\\site-packages\\sklearn\\base.py:450: UserWarning: X does not have valid feature names, but Lasso was fitted with feature names\n",
      "  warnings.warn(\n"
     ]
    }
   ],
   "source": [
    "pred = lasso.predict([[0,1200,2,0,1,0,1,0]])\n",
    "print(pred)"
   ]
  },
  {
   "cell_type": "code",
   "execution_count": 42,
   "id": "8f3509aa",
   "metadata": {},
   "outputs": [],
   "source": [
    "import xgboost as xgb\n",
    "xgb1 = xgb.XGBRegressor()"
   ]
  },
  {
   "cell_type": "code",
   "execution_count": 43,
   "id": "06965175",
   "metadata": {},
   "outputs": [],
   "source": [
    "xgb1.fit(x_train,y_train)\n",
    "xgb_pred = xgb1.predict(x_test)"
   ]
  },
  {
   "cell_type": "code",
   "execution_count": 44,
   "id": "9e406d39",
   "metadata": {},
   "outputs": [],
   "source": [
    "xgb1.save_model(\"lasso.json\")"
   ]
  },
  {
   "cell_type": "code",
   "execution_count": 45,
   "id": "a61e6ca4",
   "metadata": {},
   "outputs": [],
   "source": [
    "import streamlit as  st"
   ]
  },
  {
   "cell_type": "code",
   "execution_count": 46,
   "id": "1463d8c7",
   "metadata": {},
   "outputs": [
    {
     "name": "stderr",
     "output_type": "stream",
     "text": [
      "2022-07-20 22:15:16.460 \n",
      "  \u001b[33m\u001b[1mWarning:\u001b[0m to view this Streamlit app on a browser, run it with the following\n",
      "  command:\n",
      "\n",
      "    streamlit run C:\\Users\\Mamilla Manoj\\AppData\\Local\\Programs\\Python\\Python310\\lib\\site-packages\\ipykernel_launcher.py [ARGUMENTS]\n"
     ]
    },
    {
     "data": {
      "text/plain": [
       "DeltaGenerator(_root_container=0, _provided_cursor=None, _parent=None, _block_type=None, _form_data=None)"
      ]
     },
     "execution_count": 46,
     "metadata": {},
     "output_type": "execute_result"
    }
   ],
   "source": [
    "st.header(\"House price prediction\")\n"
   ]
  },
  {
   "cell_type": "code",
   "execution_count": 47,
   "id": "7bc3db29",
   "metadata": {},
   "outputs": [],
   "source": [
    "np.save('classes.npy',le.classes_)"
   ]
  },
  {
   "cell_type": "code",
   "execution_count": 48,
   "id": "86eacf4e",
   "metadata": {},
   "outputs": [],
   "source": [
    "le.classes_ = np.load('classes.npy',allow_pickle = True)"
   ]
  },
  {
   "cell_type": "code",
   "execution_count": 49,
   "id": "a13891b7",
   "metadata": {},
   "outputs": [],
   "source": [
    "xgb_best = xgb.XGBRegressor()"
   ]
  },
  {
   "cell_type": "code",
   "execution_count": 50,
   "id": "4652089a",
   "metadata": {},
   "outputs": [],
   "source": [
    "xgb_best.load_model(\"lasso.json\")"
   ]
  },
  {
   "cell_type": "code",
   "execution_count": 51,
   "id": "8a2123f4",
   "metadata": {},
   "outputs": [],
   "source": [
    "if st.checkbox('Show Training Dataframe'):\n",
    "    Data"
   ]
  },
  {
   "cell_type": "code",
   "execution_count": 56,
   "id": "d26c1b40",
   "metadata": {},
   "outputs": [],
   "source": [
    "st.subheader(\"please select relevant features of house\")\n",
    "left_column, right_column = st.columns(2)\n",
    "with left_column:\n",
    "    inp_species = st.radio('Location: ',np.unique(df['location']))"
   ]
  },
  {
   "cell_type": "code",
   "execution_count": 57,
   "id": "3eeb6a5c",
   "metadata": {},
   "outputs": [
    {
     "data": {
      "text/html": [
       "<div>\n",
       "<style scoped>\n",
       "    .dataframe tbody tr th:only-of-type {\n",
       "        vertical-align: middle;\n",
       "    }\n",
       "\n",
       "    .dataframe tbody tr th {\n",
       "        vertical-align: top;\n",
       "    }\n",
       "\n",
       "    .dataframe thead th {\n",
       "        text-align: right;\n",
       "    }\n",
       "</style>\n",
       "<table border=\"1\" class=\"dataframe\">\n",
       "  <thead>\n",
       "    <tr style=\"text-align: right;\">\n",
       "      <th></th>\n",
       "      <th>location</th>\n",
       "      <th>price</th>\n",
       "      <th>total_sqft</th>\n",
       "      <th>No. of Bedrooms</th>\n",
       "      <th>School</th>\n",
       "      <th>24X7Security</th>\n",
       "      <th>CarParking</th>\n",
       "      <th>Hospital</th>\n",
       "      <th>LiftAvailable</th>\n",
       "    </tr>\n",
       "  </thead>\n",
       "  <tbody>\n",
       "    <tr>\n",
       "      <th>0</th>\n",
       "      <td>0</td>\n",
       "      <td>2800000</td>\n",
       "      <td>1400</td>\n",
       "      <td>3</td>\n",
       "      <td>0</td>\n",
       "      <td>0</td>\n",
       "      <td>0</td>\n",
       "      <td>0</td>\n",
       "      <td>0</td>\n",
       "    </tr>\n",
       "    <tr>\n",
       "      <th>1</th>\n",
       "      <td>0</td>\n",
       "      <td>2800000</td>\n",
       "      <td>1400</td>\n",
       "      <td>3</td>\n",
       "      <td>0</td>\n",
       "      <td>0</td>\n",
       "      <td>0</td>\n",
       "      <td>0</td>\n",
       "      <td>0</td>\n",
       "    </tr>\n",
       "    <tr>\n",
       "      <th>2</th>\n",
       "      <td>0</td>\n",
       "      <td>2022000</td>\n",
       "      <td>1010</td>\n",
       "      <td>2</td>\n",
       "      <td>0</td>\n",
       "      <td>0</td>\n",
       "      <td>0</td>\n",
       "      <td>0</td>\n",
       "      <td>0</td>\n",
       "    </tr>\n",
       "    <tr>\n",
       "      <th>3</th>\n",
       "      <td>0</td>\n",
       "      <td>2200000</td>\n",
       "      <td>1050</td>\n",
       "      <td>2</td>\n",
       "      <td>0</td>\n",
       "      <td>0</td>\n",
       "      <td>0</td>\n",
       "      <td>0</td>\n",
       "      <td>0</td>\n",
       "    </tr>\n",
       "    <tr>\n",
       "      <th>4</th>\n",
       "      <td>0</td>\n",
       "      <td>2800000</td>\n",
       "      <td>1200</td>\n",
       "      <td>2</td>\n",
       "      <td>0</td>\n",
       "      <td>0</td>\n",
       "      <td>0</td>\n",
       "      <td>0</td>\n",
       "      <td>0</td>\n",
       "    </tr>\n",
       "  </tbody>\n",
       "</table>\n",
       "</div>"
      ],
      "text/plain": [
       "   location    price  total_sqft  No. of Bedrooms  School  24X7Security  \\\n",
       "0         0  2800000        1400                3       0             0   \n",
       "1         0  2800000        1400                3       0             0   \n",
       "2         0  2022000        1010                2       0             0   \n",
       "3         0  2200000        1050                2       0             0   \n",
       "4         0  2800000        1200                2       0             0   \n",
       "\n",
       "   CarParking  Hospital  LiftAvailable  \n",
       "0           0         0              0  \n",
       "1           0         0              0  \n",
       "2           0         0              0  \n",
       "3           0         0              0  \n",
       "4           0         0              0  "
      ]
     },
     "execution_count": 57,
     "metadata": {},
     "output_type": "execute_result"
    }
   ],
   "source": [
    "Data.head()"
   ]
  },
  {
   "cell_type": "code",
   "execution_count": 58,
   "id": "eb360ab8",
   "metadata": {},
   "outputs": [
    {
     "name": "stdout",
     "output_type": "stream",
     "text": [
      "<class 'pandas.core.frame.DataFrame'>\n",
      "RangeIndex: 1963 entries, 0 to 1962\n",
      "Data columns (total 9 columns):\n",
      " #   Column           Non-Null Count  Dtype\n",
      "---  ------           --------------  -----\n",
      " 0   location         1963 non-null   int32\n",
      " 1   price            1963 non-null   int64\n",
      " 2   total_sqft       1963 non-null   int64\n",
      " 3   No. of Bedrooms  1963 non-null   int64\n",
      " 4   School           1963 non-null   int64\n",
      " 5   24X7Security     1963 non-null   int64\n",
      " 6   CarParking       1963 non-null   int64\n",
      " 7   Hospital         1963 non-null   int64\n",
      " 8   LiftAvailable    1963 non-null   int64\n",
      "dtypes: int32(1), int64(8)\n",
      "memory usage: 130.5 KB\n"
     ]
    }
   ],
   "source": [
    "Data.info()"
   ]
  },
  {
   "cell_type": "code",
   "execution_count": 59,
   "id": "ec7e7a30",
   "metadata": {},
   "outputs": [],
   "source": [
    "input_sqft = st.slider('Total sqft(sqft)',0,max(Data[\"total_sqft\"]))\n",
    "input_bed = st.slider('No.of bedrooms',0,max(Data[\"No. of Bedrooms\"]))\n",
    "input_school = st.slider('school availabl',0,1)\n",
    "input_security = st.slider('24X7Security',0,1)\n",
    "input_car = st.slider('Car',0,1)\n",
    "input_hospital = st.slider('hospital',0,1)\n",
    "input_lift = st.slider('lift',0,1)"
   ]
  },
  {
   "cell_type": "code",
   "execution_count": 60,
   "id": "bd74e05f",
   "metadata": {},
   "outputs": [],
   "source": [
    "if st.button('Make Prediction'):\n",
    "    input_loc = le.transform(np.expand_dims(inp_species,-1))\n",
    "    inputs = np.expand_dims(\n",
    "                            [int(input_species),input_sqft,input_bed,input_school,input_security,input_car,input_hospital,input_lift])\n",
    "    prediction = xbg_best.predict(inputs)\n",
    "    print(\"final pred :\",np.squeeze(prediction,-1))\n",
    "    st.write(f\"your house price: {np.squeeze(prediction, -1):.2f}g\")"
   ]
  },
  {
   "cell_type": "code",
   "execution_count": null,
   "id": "83d73c20",
   "metadata": {},
   "outputs": [],
   "source": []
  }
 ],
 "metadata": {
  "kernelspec": {
   "display_name": "Python 3 (ipykernel)",
   "language": "python",
   "name": "python3"
  },
  "language_info": {
   "codemirror_mode": {
    "name": "ipython",
    "version": 3
   },
   "file_extension": ".py",
   "mimetype": "text/x-python",
   "name": "python",
   "nbconvert_exporter": "python",
   "pygments_lexer": "ipython3",
   "version": "3.10.4"
  }
 },
 "nbformat": 4,
 "nbformat_minor": 5
}
