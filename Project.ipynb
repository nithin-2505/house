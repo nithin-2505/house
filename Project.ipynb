{
 "cells": [
  {
   "cell_type": "code",
   "execution_count": 1,
   "id": "27366543",
   "metadata": {},
   "outputs": [],
   "source": [
    "import pandas as pd\n",
    "import numpy as np\n",
    "import seaborn as sns\n",
    "import matplotlib.pyplot as plt"
   ]
  },
  {
   "cell_type": "code",
   "execution_count": 2,
   "id": "811d6ca0",
   "metadata": {},
   "outputs": [
    {
     "data": {
      "text/html": [
       "<div>\n",
       "<style scoped>\n",
       "    .dataframe tbody tr th:only-of-type {\n",
       "        vertical-align: middle;\n",
       "    }\n",
       "\n",
       "    .dataframe tbody tr th {\n",
       "        vertical-align: top;\n",
       "    }\n",
       "\n",
       "    .dataframe thead th {\n",
       "        text-align: right;\n",
       "    }\n",
       "</style>\n",
       "<table border=\"1\" class=\"dataframe\">\n",
       "  <thead>\n",
       "    <tr style=\"text-align: right;\">\n",
       "      <th></th>\n",
       "      <th>location</th>\n",
       "      <th>price</th>\n",
       "      <th>total_sqft</th>\n",
       "      <th>No. of Bedrooms</th>\n",
       "      <th>School</th>\n",
       "      <th>24X7Security</th>\n",
       "      <th>CarParking</th>\n",
       "      <th>Hospital</th>\n",
       "      <th>LiftAvailable</th>\n",
       "    </tr>\n",
       "  </thead>\n",
       "  <tbody>\n",
       "    <tr>\n",
       "      <th>0</th>\n",
       "      <td>Nizampet</td>\n",
       "      <td>6968000</td>\n",
       "      <td>1340</td>\n",
       "      <td>2</td>\n",
       "      <td>0</td>\n",
       "      <td>1</td>\n",
       "      <td>1</td>\n",
       "      <td>0</td>\n",
       "      <td>1</td>\n",
       "    </tr>\n",
       "    <tr>\n",
       "      <th>1</th>\n",
       "      <td>Hitech City</td>\n",
       "      <td>29000000</td>\n",
       "      <td>3498</td>\n",
       "      <td>4</td>\n",
       "      <td>0</td>\n",
       "      <td>1</td>\n",
       "      <td>1</td>\n",
       "      <td>0</td>\n",
       "      <td>1</td>\n",
       "    </tr>\n",
       "    <tr>\n",
       "      <th>2</th>\n",
       "      <td>Manikonda</td>\n",
       "      <td>6590000</td>\n",
       "      <td>1318</td>\n",
       "      <td>2</td>\n",
       "      <td>0</td>\n",
       "      <td>0</td>\n",
       "      <td>0</td>\n",
       "      <td>0</td>\n",
       "      <td>0</td>\n",
       "    </tr>\n",
       "    <tr>\n",
       "      <th>3</th>\n",
       "      <td>Alwal</td>\n",
       "      <td>5739000</td>\n",
       "      <td>1295</td>\n",
       "      <td>3</td>\n",
       "      <td>0</td>\n",
       "      <td>0</td>\n",
       "      <td>0</td>\n",
       "      <td>0</td>\n",
       "      <td>1</td>\n",
       "    </tr>\n",
       "    <tr>\n",
       "      <th>4</th>\n",
       "      <td>Kukatpally</td>\n",
       "      <td>5679000</td>\n",
       "      <td>1145</td>\n",
       "      <td>2</td>\n",
       "      <td>0</td>\n",
       "      <td>0</td>\n",
       "      <td>1</td>\n",
       "      <td>0</td>\n",
       "      <td>1</td>\n",
       "    </tr>\n",
       "  </tbody>\n",
       "</table>\n",
       "</div>"
      ],
      "text/plain": [
       "      location     price  total_sqft  No. of Bedrooms  School  24X7Security  \\\n",
       "0     Nizampet   6968000        1340                2       0             1   \n",
       "1  Hitech City  29000000        3498                4       0             1   \n",
       "2    Manikonda   6590000        1318                2       0             0   \n",
       "3        Alwal   5739000        1295                3       0             0   \n",
       "4   Kukatpally   5679000        1145                2       0             0   \n",
       "\n",
       "   CarParking  Hospital  LiftAvailable  \n",
       "0           1         0              1  \n",
       "1           1         0              1  \n",
       "2           0         0              0  \n",
       "3           0         0              1  \n",
       "4           1         0              1  "
      ]
     },
     "execution_count": 2,
     "metadata": {},
     "output_type": "execute_result"
    }
   ],
   "source": [
    "df=pd.read_csv(\"clean_data.csv\")\n",
    "df.head()"
   ]
  },
  {
   "cell_type": "code",
   "execution_count": 3,
   "id": "4340aebd",
   "metadata": {},
   "outputs": [
    {
     "data": {
      "text/plain": [
       "location           0\n",
       "price              0\n",
       "total_sqft         0\n",
       "No. of Bedrooms    0\n",
       "School             0\n",
       "24X7Security       0\n",
       "CarParking         0\n",
       "Hospital           0\n",
       "LiftAvailable      0\n",
       "dtype: int64"
      ]
     },
     "execution_count": 3,
     "metadata": {},
     "output_type": "execute_result"
    }
   ],
   "source": [
    "df.isna().sum()"
   ]
  },
  {
   "cell_type": "code",
   "execution_count": 4,
   "id": "27c64b03",
   "metadata": {},
   "outputs": [],
   "source": [
    "Data=df.copy()"
   ]
  },
  {
   "cell_type": "code",
   "execution_count": 5,
   "id": "97d3c908",
   "metadata": {},
   "outputs": [
    {
     "data": {
      "text/html": [
       "<div>\n",
       "<style scoped>\n",
       "    .dataframe tbody tr th:only-of-type {\n",
       "        vertical-align: middle;\n",
       "    }\n",
       "\n",
       "    .dataframe tbody tr th {\n",
       "        vertical-align: top;\n",
       "    }\n",
       "\n",
       "    .dataframe thead th {\n",
       "        text-align: right;\n",
       "    }\n",
       "</style>\n",
       "<table border=\"1\" class=\"dataframe\">\n",
       "  <thead>\n",
       "    <tr style=\"text-align: right;\">\n",
       "      <th></th>\n",
       "      <th>location</th>\n",
       "      <th>price</th>\n",
       "      <th>total_sqft</th>\n",
       "      <th>No. of Bedrooms</th>\n",
       "      <th>School</th>\n",
       "      <th>24X7Security</th>\n",
       "      <th>CarParking</th>\n",
       "      <th>Hospital</th>\n",
       "      <th>LiftAvailable</th>\n",
       "    </tr>\n",
       "  </thead>\n",
       "  <tbody>\n",
       "    <tr>\n",
       "      <th>0</th>\n",
       "      <td>Nizampet</td>\n",
       "      <td>6968000</td>\n",
       "      <td>1340</td>\n",
       "      <td>2</td>\n",
       "      <td>0</td>\n",
       "      <td>1</td>\n",
       "      <td>1</td>\n",
       "      <td>0</td>\n",
       "      <td>1</td>\n",
       "    </tr>\n",
       "    <tr>\n",
       "      <th>1</th>\n",
       "      <td>Hitech City</td>\n",
       "      <td>29000000</td>\n",
       "      <td>3498</td>\n",
       "      <td>4</td>\n",
       "      <td>0</td>\n",
       "      <td>1</td>\n",
       "      <td>1</td>\n",
       "      <td>0</td>\n",
       "      <td>1</td>\n",
       "    </tr>\n",
       "    <tr>\n",
       "      <th>2</th>\n",
       "      <td>Manikonda</td>\n",
       "      <td>6590000</td>\n",
       "      <td>1318</td>\n",
       "      <td>2</td>\n",
       "      <td>0</td>\n",
       "      <td>0</td>\n",
       "      <td>0</td>\n",
       "      <td>0</td>\n",
       "      <td>0</td>\n",
       "    </tr>\n",
       "    <tr>\n",
       "      <th>3</th>\n",
       "      <td>Alwal</td>\n",
       "      <td>5739000</td>\n",
       "      <td>1295</td>\n",
       "      <td>3</td>\n",
       "      <td>0</td>\n",
       "      <td>0</td>\n",
       "      <td>0</td>\n",
       "      <td>0</td>\n",
       "      <td>1</td>\n",
       "    </tr>\n",
       "    <tr>\n",
       "      <th>4</th>\n",
       "      <td>Kukatpally</td>\n",
       "      <td>5679000</td>\n",
       "      <td>1145</td>\n",
       "      <td>2</td>\n",
       "      <td>0</td>\n",
       "      <td>0</td>\n",
       "      <td>1</td>\n",
       "      <td>0</td>\n",
       "      <td>1</td>\n",
       "    </tr>\n",
       "  </tbody>\n",
       "</table>\n",
       "</div>"
      ],
      "text/plain": [
       "      location     price  total_sqft  No. of Bedrooms  School  24X7Security  \\\n",
       "0     Nizampet   6968000        1340                2       0             1   \n",
       "1  Hitech City  29000000        3498                4       0             1   \n",
       "2    Manikonda   6590000        1318                2       0             0   \n",
       "3        Alwal   5739000        1295                3       0             0   \n",
       "4   Kukatpally   5679000        1145                2       0             0   \n",
       "\n",
       "   CarParking  Hospital  LiftAvailable  \n",
       "0           1         0              1  \n",
       "1           1         0              1  \n",
       "2           0         0              0  \n",
       "3           0         0              1  \n",
       "4           1         0              1  "
      ]
     },
     "execution_count": 5,
     "metadata": {},
     "output_type": "execute_result"
    }
   ],
   "source": [
    "Data.head()"
   ]
  },
  {
   "cell_type": "code",
   "execution_count": 6,
   "id": "31ba4159",
   "metadata": {},
   "outputs": [
    {
     "data": {
      "text/html": [
       "<div>\n",
       "<style scoped>\n",
       "    .dataframe tbody tr th:only-of-type {\n",
       "        vertical-align: middle;\n",
       "    }\n",
       "\n",
       "    .dataframe tbody tr th {\n",
       "        vertical-align: top;\n",
       "    }\n",
       "\n",
       "    .dataframe thead th {\n",
       "        text-align: right;\n",
       "    }\n",
       "</style>\n",
       "<table border=\"1\" class=\"dataframe\">\n",
       "  <thead>\n",
       "    <tr style=\"text-align: right;\">\n",
       "      <th></th>\n",
       "      <th>price</th>\n",
       "      <th>total_sqft</th>\n",
       "      <th>No. of Bedrooms</th>\n",
       "      <th>School</th>\n",
       "      <th>24X7Security</th>\n",
       "      <th>CarParking</th>\n",
       "      <th>Hospital</th>\n",
       "      <th>LiftAvailable</th>\n",
       "    </tr>\n",
       "  </thead>\n",
       "  <tbody>\n",
       "    <tr>\n",
       "      <th>count</th>\n",
       "      <td>2.518000e+03</td>\n",
       "      <td>2518.000000</td>\n",
       "      <td>2518.000000</td>\n",
       "      <td>2518.000000</td>\n",
       "      <td>2518.000000</td>\n",
       "      <td>2518.000000</td>\n",
       "      <td>2518.000000</td>\n",
       "      <td>2518.000000</td>\n",
       "    </tr>\n",
       "    <tr>\n",
       "      <th>mean</th>\n",
       "      <td>9.818380e+06</td>\n",
       "      <td>1644.571088</td>\n",
       "      <td>2.623511</td>\n",
       "      <td>0.340747</td>\n",
       "      <td>0.706513</td>\n",
       "      <td>0.736299</td>\n",
       "      <td>0.339952</td>\n",
       "      <td>0.975774</td>\n",
       "    </tr>\n",
       "    <tr>\n",
       "      <th>std</th>\n",
       "      <td>8.777113e+06</td>\n",
       "      <td>746.256956</td>\n",
       "      <td>0.687330</td>\n",
       "      <td>1.620984</td>\n",
       "      <td>1.615641</td>\n",
       "      <td>1.611552</td>\n",
       "      <td>1.620905</td>\n",
       "      <td>1.557725</td>\n",
       "    </tr>\n",
       "    <tr>\n",
       "      <th>min</th>\n",
       "      <td>2.000000e+06</td>\n",
       "      <td>500.000000</td>\n",
       "      <td>1.000000</td>\n",
       "      <td>0.000000</td>\n",
       "      <td>0.000000</td>\n",
       "      <td>0.000000</td>\n",
       "      <td>0.000000</td>\n",
       "      <td>0.000000</td>\n",
       "    </tr>\n",
       "    <tr>\n",
       "      <th>25%</th>\n",
       "      <td>4.760000e+06</td>\n",
       "      <td>1160.000000</td>\n",
       "      <td>2.000000</td>\n",
       "      <td>0.000000</td>\n",
       "      <td>0.000000</td>\n",
       "      <td>0.000000</td>\n",
       "      <td>0.000000</td>\n",
       "      <td>0.000000</td>\n",
       "    </tr>\n",
       "    <tr>\n",
       "      <th>50%</th>\n",
       "      <td>7.754000e+06</td>\n",
       "      <td>1500.000000</td>\n",
       "      <td>3.000000</td>\n",
       "      <td>0.000000</td>\n",
       "      <td>0.000000</td>\n",
       "      <td>0.000000</td>\n",
       "      <td>0.000000</td>\n",
       "      <td>1.000000</td>\n",
       "    </tr>\n",
       "    <tr>\n",
       "      <th>75%</th>\n",
       "      <td>1.090000e+07</td>\n",
       "      <td>1829.000000</td>\n",
       "      <td>3.000000</td>\n",
       "      <td>0.000000</td>\n",
       "      <td>1.000000</td>\n",
       "      <td>1.000000</td>\n",
       "      <td>0.000000</td>\n",
       "      <td>1.000000</td>\n",
       "    </tr>\n",
       "    <tr>\n",
       "      <th>max</th>\n",
       "      <td>1.650000e+08</td>\n",
       "      <td>9400.000000</td>\n",
       "      <td>8.000000</td>\n",
       "      <td>9.000000</td>\n",
       "      <td>9.000000</td>\n",
       "      <td>9.000000</td>\n",
       "      <td>9.000000</td>\n",
       "      <td>9.000000</td>\n",
       "    </tr>\n",
       "  </tbody>\n",
       "</table>\n",
       "</div>"
      ],
      "text/plain": [
       "              price   total_sqft  No. of Bedrooms       School  24X7Security  \\\n",
       "count  2.518000e+03  2518.000000      2518.000000  2518.000000   2518.000000   \n",
       "mean   9.818380e+06  1644.571088         2.623511     0.340747      0.706513   \n",
       "std    8.777113e+06   746.256956         0.687330     1.620984      1.615641   \n",
       "min    2.000000e+06   500.000000         1.000000     0.000000      0.000000   \n",
       "25%    4.760000e+06  1160.000000         2.000000     0.000000      0.000000   \n",
       "50%    7.754000e+06  1500.000000         3.000000     0.000000      0.000000   \n",
       "75%    1.090000e+07  1829.000000         3.000000     0.000000      1.000000   \n",
       "max    1.650000e+08  9400.000000         8.000000     9.000000      9.000000   \n",
       "\n",
       "        CarParking     Hospital  LiftAvailable  \n",
       "count  2518.000000  2518.000000    2518.000000  \n",
       "mean      0.736299     0.339952       0.975774  \n",
       "std       1.611552     1.620905       1.557725  \n",
       "min       0.000000     0.000000       0.000000  \n",
       "25%       0.000000     0.000000       0.000000  \n",
       "50%       0.000000     0.000000       1.000000  \n",
       "75%       1.000000     0.000000       1.000000  \n",
       "max       9.000000     9.000000       9.000000  "
      ]
     },
     "execution_count": 6,
     "metadata": {},
     "output_type": "execute_result"
    }
   ],
   "source": [
    "Data.describe()"
   ]
  },
  {
   "cell_type": "code",
   "execution_count": 7,
   "id": "fed1538a",
   "metadata": {},
   "outputs": [
    {
     "data": {
      "text/plain": [
       "Kukatpally                       166\n",
       "Kondapur                         149\n",
       "Manikonda                        115\n",
       "Nizampet                         106\n",
       "Gachibowli                        83\n",
       "                                ... \n",
       "Basheer Bagh                       1\n",
       "Miyapur HMT Swarnapuri Colony      1\n",
       "Adda Gutta                         1\n",
       "Mayuri Nagar                       1\n",
       "Paradise Circle                    1\n",
       "Name: location, Length: 243, dtype: int64"
      ]
     },
     "execution_count": 7,
     "metadata": {},
     "output_type": "execute_result"
    }
   ],
   "source": [
    "Data[\"location\"].value_counts()"
   ]
  },
  {
   "cell_type": "code",
   "execution_count": 8,
   "id": "67047c6b",
   "metadata": {},
   "outputs": [],
   "source": [
    "Data[\"location\"]=Data[\"location\"].apply(lambda x: x.strip())\n",
    "location_counts=Data[\"location\"].value_counts()"
   ]
  },
  {
   "cell_type": "code",
   "execution_count": 9,
   "id": "9bd2903a",
   "metadata": {},
   "outputs": [
    {
     "data": {
      "text/plain": [
       "Kukatpally                       166\n",
       "Kondapur                         149\n",
       "Manikonda                        115\n",
       "Nizampet                         106\n",
       "Gachibowli                        83\n",
       "                                ... \n",
       "Basheer Bagh                       1\n",
       "Miyapur HMT Swarnapuri Colony      1\n",
       "Adda Gutta                         1\n",
       "Mayuri Nagar                       1\n",
       "Paradise Circle                    1\n",
       "Name: location, Length: 243, dtype: int64"
      ]
     },
     "execution_count": 9,
     "metadata": {},
     "output_type": "execute_result"
    }
   ],
   "source": [
    "location_counts"
   ]
  },
  {
   "cell_type": "code",
   "execution_count": 10,
   "id": "ec6104f6",
   "metadata": {},
   "outputs": [
    {
     "data": {
      "text/plain": [
       "Gandipet                         10\n",
       "Mehdipatnam                      10\n",
       "Somajiguda                        9\n",
       "ECIL                              9\n",
       "Uppal                             9\n",
       "                                 ..\n",
       "Basheer Bagh                      1\n",
       "Miyapur HMT Swarnapuri Colony     1\n",
       "Adda Gutta                        1\n",
       "Mayuri Nagar                      1\n",
       "Paradise Circle                   1\n",
       "Name: location, Length: 189, dtype: int64"
      ]
     },
     "execution_count": 10,
     "metadata": {},
     "output_type": "execute_result"
    }
   ],
   "source": [
    "location_10_counts=location_counts[location_counts<=10]\n",
    "location_10_counts\n"
   ]
  },
  {
   "cell_type": "code",
   "execution_count": 11,
   "id": "2d1d84b9",
   "metadata": {},
   "outputs": [],
   "source": [
    "Data[\"location\"]=Data[\"location\"].apply(lambda x: \"other\" if x in location_10_counts else x)"
   ]
  },
  {
   "cell_type": "code",
   "execution_count": null,
   "id": "bed5aa9d",
   "metadata": {},
   "outputs": [],
   "source": []
  },
  {
   "cell_type": "code",
   "execution_count": 12,
   "id": "1276238b",
   "metadata": {
    "scrolled": true
   },
   "outputs": [
    {
     "data": {
      "text/plain": [
       "other                        468\n",
       "Kukatpally                   166\n",
       "Kondapur                     149\n",
       "Manikonda                    115\n",
       "Nizampet                     106\n",
       "Gachibowli                    83\n",
       "Hitech City                   82\n",
       "Miyapur                       80\n",
       "Kokapet                       79\n",
       "Pragathi Nagar Kukatpally     57\n",
       "Bachupally Road               55\n",
       "Narsingi                      52\n",
       "Puppalaguda                   51\n",
       "Beeramguda                    51\n",
       "Nanakramguda                  49\n",
       "Gajularamaram                 48\n",
       "Banjara Hills                 44\n",
       "Appa Junction                 43\n",
       "Tellapur                      43\n",
       "Serilingampally               41\n",
       "Jubilee Hills                 41\n",
       "Krishna Reddy Pet             34\n",
       "Madhapur                      34\n",
       "Nallagandla Gachibowli        32\n",
       "Appa Junction Peerancheru     28\n",
       "Bachupally                    28\n",
       "Malkajgiri                    22\n",
       "Mallampet                     22\n",
       "Begumpet                      21\n",
       "Aminpur                       20\n",
       "Alwal                         20\n",
       "Nacharam                      19\n",
       "Kollur Road                   19\n",
       "Balanagar                     18\n",
       "Sanath Nagar                  18\n",
       "Mallapur                      18\n",
       "Chandanagar                   17\n",
       "Attapur                       17\n",
       "West Marredpally              17\n",
       "Nagole                        16\n",
       "Kompally                      16\n",
       "Patancheru                    15\n",
       "Bandlaguda Jagir              15\n",
       "LB Nagar                      14\n",
       "Adibatla                      14\n",
       "East Marredpally              14\n",
       "Shaikpet                      13\n",
       "Tarnaka                       13\n",
       "Nallakunta                    12\n",
       "Gajulramaram Kukatpally       12\n",
       "Toli Chowki                   12\n",
       "Madinaguda                    12\n",
       "Darga Khaliz Khan             11\n",
       "TellapurOsman Nagar Road      11\n",
       "Kachiguda                     11\n",
       "Name: location, dtype: int64"
      ]
     },
     "execution_count": 12,
     "metadata": {},
     "output_type": "execute_result"
    }
   ],
   "source": [
    "Data[\"location\"].value_counts()"
   ]
  },
  {
   "cell_type": "code",
   "execution_count": 13,
   "id": "442f9eb2",
   "metadata": {},
   "outputs": [
    {
     "data": {
      "image/png": "[encoded data removed]",
      "text/plain": [
       "<Figure size 432x288 with 1 Axes>"
      ]
     },
     "metadata": {
      "needs_background": "light"
     },
     "output_type": "display_data"
    }
   ],
   "source": [
    "plt.plot(Data['price'])\n",
    "plt.show()"
   ]
  },
  {
   "cell_type": "code",
   "execution_count": 14,
   "id": "93452088",
   "metadata": {},
   "outputs": [
    {
     "data": {
      "image/png": "[encoded data removed]",
      "text/plain": [
       "<Figure size 432x288 with 1 Axes>"
      ]
     },
     "metadata": {
      "needs_background": "light"
     },
     "output_type": "display_data"
    }
   ],
   "source": [
    "plt.plot(Data['location'])\n",
    "plt.show()"
   ]
  },
  {
   "cell_type": "code",
   "execution_count": 15,
   "id": "1592f417",
   "metadata": {},
   "outputs": [
    {
     "data": {
      "image/png": "[encoded data removed]",
      "text/plain": [
       "<Figure size 432x288 with 1 Axes>"
      ]
     },
     "metadata": {
      "needs_background": "light"
     },
     "output_type": "display_data"
    }
   ],
   "source": [
    "plt.plot(Data['total_sqft'])\n",
    "plt.show()"
   ]
  },
  {
   "cell_type": "code",
   "execution_count": 18,
   "id": "1d4cbff9",
   "metadata": {},
   "outputs": [
    {
     "data": {
      "image/png": "[encoded data removed]",
      "text/plain": [
       "<Figure size 1080x432 with 1 Axes>"
      ]
     },
     "metadata": {
      "needs_background": "light"
     },
     "output_type": "display_data"
    }
   ],
   "source": [
    "plt.figure(figsize = (15,6))\n",
    "sns.countplot('No. of Bedrooms',data = Data,palette = 'hls')\n",
    "plt.show()"
   ]
  },
  {
   "cell_type": "code",
   "execution_count": 13,
   "id": "afb6d7cd",
   "metadata": {},
   "outputs": [],
   "source": [
    "Data[\"price_per_sqft\"]=(Data[\"price\"]/Data[\"total_sqft\"])*100000"
   ]
  },
  {
   "cell_type": "code",
   "execution_count": 14,
   "id": "e625d692",
   "metadata": {},
   "outputs": [
    {
     "data": {
      "text/plain": [
       "count    2.518000e+03\n",
       "mean     5.488335e+08\n",
       "std      2.417874e+08\n",
       "min      1.055000e+08\n",
       "25%      4.000000e+08\n",
       "50%      5.000000e+08\n",
       "75%      6.477659e+08\n",
       "max      6.000000e+09\n",
       "Name: price_per_sqft, dtype: float64"
      ]
     },
     "execution_count": 14,
     "metadata": {},
     "output_type": "execute_result"
    }
   ],
   "source": [
    "Data[\"price_per_sqft\"].describe()"
   ]
  },
  {
   "cell_type": "code",
   "execution_count": 15,
   "id": "8a84e4c1",
   "metadata": {
    "scrolled": true
   },
   "outputs": [
    {
     "data": {
      "text/html": [
       "<div>\n",
       "<style scoped>\n",
       "    .dataframe tbody tr th:only-of-type {\n",
       "        vertical-align: middle;\n",
       "    }\n",
       "\n",
       "    .dataframe tbody tr th {\n",
       "        vertical-align: top;\n",
       "    }\n",
       "\n",
       "    .dataframe thead th {\n",
       "        text-align: right;\n",
       "    }\n",
       "</style>\n",
       "<table border=\"1\" class=\"dataframe\">\n",
       "  <thead>\n",
       "    <tr style=\"text-align: right;\">\n",
       "      <th></th>\n",
       "      <th>price</th>\n",
       "      <th>total_sqft</th>\n",
       "      <th>No. of Bedrooms</th>\n",
       "      <th>School</th>\n",
       "      <th>24X7Security</th>\n",
       "      <th>CarParking</th>\n",
       "      <th>Hospital</th>\n",
       "      <th>LiftAvailable</th>\n",
       "      <th>price_per_sqft</th>\n",
       "    </tr>\n",
       "  </thead>\n",
       "  <tbody>\n",
       "    <tr>\n",
       "      <th>count</th>\n",
       "      <td>1.963000e+03</td>\n",
       "      <td>1963.000000</td>\n",
       "      <td>1963.000000</td>\n",
       "      <td>1963.000000</td>\n",
       "      <td>1963.000000</td>\n",
       "      <td>1963.000000</td>\n",
       "      <td>1963.000000</td>\n",
       "      <td>1963.000000</td>\n",
       "      <td>1.963000e+03</td>\n",
       "    </tr>\n",
       "    <tr>\n",
       "      <th>mean</th>\n",
       "      <td>9.251986e+06</td>\n",
       "      <td>1613.786551</td>\n",
       "      <td>2.612837</td>\n",
       "      <td>0.202241</td>\n",
       "      <td>0.576159</td>\n",
       "      <td>0.612837</td>\n",
       "      <td>0.197657</td>\n",
       "      <td>0.855833</td>\n",
       "      <td>5.329551e+08</td>\n",
       "    </tr>\n",
       "    <tr>\n",
       "      <th>std</th>\n",
       "      <td>6.915921e+06</td>\n",
       "      <td>661.379307</td>\n",
       "      <td>0.661970</td>\n",
       "      <td>1.232567</td>\n",
       "      <td>1.265750</td>\n",
       "      <td>1.263007</td>\n",
       "      <td>1.231449</td>\n",
       "      <td>1.217064</td>\n",
       "      <td>1.682728e+08</td>\n",
       "    </tr>\n",
       "    <tr>\n",
       "      <th>min</th>\n",
       "      <td>2.022000e+06</td>\n",
       "      <td>540.000000</td>\n",
       "      <td>1.000000</td>\n",
       "      <td>0.000000</td>\n",
       "      <td>0.000000</td>\n",
       "      <td>0.000000</td>\n",
       "      <td>0.000000</td>\n",
       "      <td>0.000000</td>\n",
       "      <td>2.000000e+08</td>\n",
       "    </tr>\n",
       "    <tr>\n",
       "      <th>25%</th>\n",
       "      <td>4.800000e+06</td>\n",
       "      <td>1165.000000</td>\n",
       "      <td>2.000000</td>\n",
       "      <td>0.000000</td>\n",
       "      <td>0.000000</td>\n",
       "      <td>0.000000</td>\n",
       "      <td>0.000000</td>\n",
       "      <td>0.000000</td>\n",
       "      <td>4.016548e+08</td>\n",
       "    </tr>\n",
       "    <tr>\n",
       "      <th>50%</th>\n",
       "      <td>7.533000e+06</td>\n",
       "      <td>1500.000000</td>\n",
       "      <td>3.000000</td>\n",
       "      <td>0.000000</td>\n",
       "      <td>0.000000</td>\n",
       "      <td>0.000000</td>\n",
       "      <td>0.000000</td>\n",
       "      <td>1.000000</td>\n",
       "      <td>4.998750e+08</td>\n",
       "    </tr>\n",
       "    <tr>\n",
       "      <th>75%</th>\n",
       "      <td>1.070000e+07</td>\n",
       "      <td>1800.000000</td>\n",
       "      <td>3.000000</td>\n",
       "      <td>0.000000</td>\n",
       "      <td>1.000000</td>\n",
       "      <td>1.000000</td>\n",
       "      <td>0.000000</td>\n",
       "      <td>1.000000</td>\n",
       "      <td>6.376066e+08</td>\n",
       "    </tr>\n",
       "    <tr>\n",
       "      <th>max</th>\n",
       "      <td>6.640000e+07</td>\n",
       "      <td>6718.000000</td>\n",
       "      <td>6.000000</td>\n",
       "      <td>9.000000</td>\n",
       "      <td>9.000000</td>\n",
       "      <td>9.000000</td>\n",
       "      <td>9.000000</td>\n",
       "      <td>9.000000</td>\n",
       "      <td>1.210526e+09</td>\n",
       "    </tr>\n",
       "  </tbody>\n",
       "</table>\n",
       "</div>"
      ],
      "text/plain": [
       "              price   total_sqft  No. of Bedrooms       School  24X7Security  \\\n",
       "count  1.963000e+03  1963.000000      1963.000000  1963.000000   1963.000000   \n",
       "mean   9.251986e+06  1613.786551         2.612837     0.202241      0.576159   \n",
       "std    6.915921e+06   661.379307         0.661970     1.232567      1.265750   \n",
       "min    2.022000e+06   540.000000         1.000000     0.000000      0.000000   \n",
       "25%    4.800000e+06  1165.000000         2.000000     0.000000      0.000000   \n",
       "50%    7.533000e+06  1500.000000         3.000000     0.000000      0.000000   \n",
       "75%    1.070000e+07  1800.000000         3.000000     0.000000      1.000000   \n",
       "max    6.640000e+07  6718.000000         6.000000     9.000000      9.000000   \n",
       "\n",
       "        CarParking     Hospital  LiftAvailable  price_per_sqft  \n",
       "count  1963.000000  1963.000000    1963.000000    1.963000e+03  \n",
       "mean      0.612837     0.197657       0.855833    5.329551e+08  \n",
       "std       1.263007     1.231449       1.217064    1.682728e+08  \n",
       "min       0.000000     0.000000       0.000000    2.000000e+08  \n",
       "25%       0.000000     0.000000       0.000000    4.016548e+08  \n",
       "50%       0.000000     0.000000       1.000000    4.998750e+08  \n",
       "75%       1.000000     0.000000       1.000000    6.376066e+08  \n",
       "max       9.000000     9.000000       9.000000    1.210526e+09  "
      ]
     },
     "execution_count": 15,
     "metadata": {},
     "output_type": "execute_result"
    }
   ],
   "source": [
    "def sqft_outlier_removal(df):\n",
    "    op_df=pd.DataFrame()\n",
    "    for location,subdf in df.groupby(\"location\"):\n",
    "        m=np.mean(subdf.price_per_sqft)\n",
    "        sd=np.std(subdf.price_per_sqft)\n",
    "        \n",
    "        gen_df=subdf[(subdf.price_per_sqft>(m-sd)) & (subdf.price_per_sqft<=(m+sd))]\n",
    "        op_df=pd.concat([op_df,gen_df], ignore_index=True)\n",
    "    return op_df\n",
    "Data=sqft_outlier_removal(Data)\n",
    "Data.describe() "
   ]
  },
  {
   "cell_type": "code",
   "execution_count": 16,
   "id": "97ca20d0",
   "metadata": {},
   "outputs": [
    {
     "data": {
      "text/html": [
       "<div>\n",
       "<style scoped>\n",
       "    .dataframe tbody tr th:only-of-type {\n",
       "        vertical-align: middle;\n",
       "    }\n",
       "\n",
       "    .dataframe tbody tr th {\n",
       "        vertical-align: top;\n",
       "    }\n",
       "\n",
       "    .dataframe thead th {\n",
       "        text-align: right;\n",
       "    }\n",
       "</style>\n",
       "<table border=\"1\" class=\"dataframe\">\n",
       "  <thead>\n",
       "    <tr style=\"text-align: right;\">\n",
       "      <th></th>\n",
       "      <th>location</th>\n",
       "      <th>price</th>\n",
       "      <th>total_sqft</th>\n",
       "      <th>No. of Bedrooms</th>\n",
       "      <th>School</th>\n",
       "      <th>24X7Security</th>\n",
       "      <th>CarParking</th>\n",
       "      <th>Hospital</th>\n",
       "      <th>LiftAvailable</th>\n",
       "      <th>price_per_sqft</th>\n",
       "    </tr>\n",
       "  </thead>\n",
       "  <tbody>\n",
       "    <tr>\n",
       "      <th>0</th>\n",
       "      <td>Adibatla</td>\n",
       "      <td>2800000</td>\n",
       "      <td>1400</td>\n",
       "      <td>3</td>\n",
       "      <td>0</td>\n",
       "      <td>0</td>\n",
       "      <td>0</td>\n",
       "      <td>0</td>\n",
       "      <td>0</td>\n",
       "      <td>2.000000e+08</td>\n",
       "    </tr>\n",
       "    <tr>\n",
       "      <th>1</th>\n",
       "      <td>Adibatla</td>\n",
       "      <td>2800000</td>\n",
       "      <td>1400</td>\n",
       "      <td>3</td>\n",
       "      <td>0</td>\n",
       "      <td>0</td>\n",
       "      <td>0</td>\n",
       "      <td>0</td>\n",
       "      <td>0</td>\n",
       "      <td>2.000000e+08</td>\n",
       "    </tr>\n",
       "    <tr>\n",
       "      <th>2</th>\n",
       "      <td>Adibatla</td>\n",
       "      <td>2022000</td>\n",
       "      <td>1010</td>\n",
       "      <td>2</td>\n",
       "      <td>0</td>\n",
       "      <td>0</td>\n",
       "      <td>0</td>\n",
       "      <td>0</td>\n",
       "      <td>0</td>\n",
       "      <td>2.001980e+08</td>\n",
       "    </tr>\n",
       "    <tr>\n",
       "      <th>3</th>\n",
       "      <td>Adibatla</td>\n",
       "      <td>2200000</td>\n",
       "      <td>1050</td>\n",
       "      <td>2</td>\n",
       "      <td>0</td>\n",
       "      <td>0</td>\n",
       "      <td>0</td>\n",
       "      <td>0</td>\n",
       "      <td>0</td>\n",
       "      <td>2.095238e+08</td>\n",
       "    </tr>\n",
       "    <tr>\n",
       "      <th>4</th>\n",
       "      <td>Adibatla</td>\n",
       "      <td>2800000</td>\n",
       "      <td>1200</td>\n",
       "      <td>2</td>\n",
       "      <td>0</td>\n",
       "      <td>0</td>\n",
       "      <td>0</td>\n",
       "      <td>0</td>\n",
       "      <td>0</td>\n",
       "      <td>2.333333e+08</td>\n",
       "    </tr>\n",
       "    <tr>\n",
       "      <th>...</th>\n",
       "      <td>...</td>\n",
       "      <td>...</td>\n",
       "      <td>...</td>\n",
       "      <td>...</td>\n",
       "      <td>...</td>\n",
       "      <td>...</td>\n",
       "      <td>...</td>\n",
       "      <td>...</td>\n",
       "      <td>...</td>\n",
       "      <td>...</td>\n",
       "    </tr>\n",
       "    <tr>\n",
       "      <th>1958</th>\n",
       "      <td>other</td>\n",
       "      <td>7584999</td>\n",
       "      <td>1250</td>\n",
       "      <td>2</td>\n",
       "      <td>9</td>\n",
       "      <td>9</td>\n",
       "      <td>9</td>\n",
       "      <td>9</td>\n",
       "      <td>9</td>\n",
       "      <td>6.067999e+08</td>\n",
       "    </tr>\n",
       "    <tr>\n",
       "      <th>1959</th>\n",
       "      <td>other</td>\n",
       "      <td>5250000</td>\n",
       "      <td>1485</td>\n",
       "      <td>3</td>\n",
       "      <td>9</td>\n",
       "      <td>9</td>\n",
       "      <td>9</td>\n",
       "      <td>9</td>\n",
       "      <td>9</td>\n",
       "      <td>3.535354e+08</td>\n",
       "    </tr>\n",
       "    <tr>\n",
       "      <th>1960</th>\n",
       "      <td>other</td>\n",
       "      <td>9800000</td>\n",
       "      <td>1650</td>\n",
       "      <td>2</td>\n",
       "      <td>9</td>\n",
       "      <td>9</td>\n",
       "      <td>9</td>\n",
       "      <td>9</td>\n",
       "      <td>9</td>\n",
       "      <td>5.939394e+08</td>\n",
       "    </tr>\n",
       "    <tr>\n",
       "      <th>1961</th>\n",
       "      <td>other</td>\n",
       "      <td>7500000</td>\n",
       "      <td>1550</td>\n",
       "      <td>2</td>\n",
       "      <td>9</td>\n",
       "      <td>9</td>\n",
       "      <td>9</td>\n",
       "      <td>9</td>\n",
       "      <td>9</td>\n",
       "      <td>4.838710e+08</td>\n",
       "    </tr>\n",
       "    <tr>\n",
       "      <th>1962</th>\n",
       "      <td>other</td>\n",
       "      <td>4000000</td>\n",
       "      <td>1060</td>\n",
       "      <td>2</td>\n",
       "      <td>9</td>\n",
       "      <td>9</td>\n",
       "      <td>9</td>\n",
       "      <td>9</td>\n",
       "      <td>9</td>\n",
       "      <td>3.773585e+08</td>\n",
       "    </tr>\n",
       "  </tbody>\n",
       "</table>\n",
       "<p>1963 rows × 10 columns</p>\n",
       "</div>"
      ],
      "text/plain": [
       "      location    price  total_sqft  No. of Bedrooms  School  24X7Security  \\\n",
       "0     Adibatla  2800000        1400                3       0             0   \n",
       "1     Adibatla  2800000        1400                3       0             0   \n",
       "2     Adibatla  2022000        1010                2       0             0   \n",
       "3     Adibatla  2200000        1050                2       0             0   \n",
       "4     Adibatla  2800000        1200                2       0             0   \n",
       "...        ...      ...         ...              ...     ...           ...   \n",
       "1958     other  7584999        1250                2       9             9   \n",
       "1959     other  5250000        1485                3       9             9   \n",
       "1960     other  9800000        1650                2       9             9   \n",
       "1961     other  7500000        1550                2       9             9   \n",
       "1962     other  4000000        1060                2       9             9   \n",
       "\n",
       "      CarParking  Hospital  LiftAvailable  price_per_sqft  \n",
       "0              0         0              0    2.000000e+08  \n",
       "1              0         0              0    2.000000e+08  \n",
       "2              0         0              0    2.001980e+08  \n",
       "3              0         0              0    2.095238e+08  \n",
       "4              0         0              0    2.333333e+08  \n",
       "...          ...       ...            ...             ...  \n",
       "1958           9         9              9    6.067999e+08  \n",
       "1959           9         9              9    3.535354e+08  \n",
       "1960           9         9              9    5.939394e+08  \n",
       "1961           9         9              9    4.838710e+08  \n",
       "1962           9         9              9    3.773585e+08  \n",
       "\n",
       "[1963 rows x 10 columns]"
      ]
     },
     "execution_count": 16,
     "metadata": {},
     "output_type": "execute_result"
    }
   ],
   "source": [
    "Data"
   ]
  },
  {
   "cell_type": "code",
   "execution_count": 17,
   "id": "98ab4feb",
   "metadata": {},
   "outputs": [],
   "source": [
    "Data.drop(\"price_per_sqft\",axis=1,inplace=True)"
   ]
  },
  {
   "cell_type": "code",
   "execution_count": 18,
   "id": "652f46f3",
   "metadata": {},
   "outputs": [],
   "source": [
    "Data.to_csv(\"Clean1_data.csv\",index=False)"
   ]
  },
  {
   "cell_type": "code",
   "execution_count": 19,
   "id": "1568383e",
   "metadata": {},
   "outputs": [],
   "source": [
    "x = Data.drop(\"price\",axis=1)"
   ]
  },
  {
   "cell_type": "code",
   "execution_count": 20,
   "id": "b3aa8f2f",
   "metadata": {},
   "outputs": [],
   "source": [
    "y = Data[\"price\"]"
   ]
  },
  {
   "cell_type": "code",
   "execution_count": 21,
   "id": "19f4bccd",
   "metadata": {},
   "outputs": [],
   "source": [
    "from sklearn.model_selection import train_test_split\n",
    "from sklearn.linear_model import LinearRegression,Lasso,Ridge\n",
    "from sklearn.preprocessing import OneHotEncoder, StandardScaler\n",
    "from sklearn.compose import make_column_transformer\n",
    "from sklearn.pipeline import make_pipeline\n",
    "from sklearn.metrics import r2_score"
   ]
  },
  {
   "cell_type": "code",
   "execution_count": 22,
   "id": "62009e19",
   "metadata": {},
   "outputs": [],
   "source": [
    "x_train,x_test,y_train,y_test=train_test_split(x,y,test_size=0.10,random_state=16)"
   ]
  },
  {
   "cell_type": "code",
   "execution_count": 23,
   "id": "6616f594",
   "metadata": {},
   "outputs": [
    {
     "data": {
      "text/plain": [
       "((1766, 8), (1766,), (197, 8), (197,))"
      ]
     },
     "execution_count": 23,
     "metadata": {},
     "output_type": "execute_result"
    }
   ],
   "source": [
    "x_train.shape,y_train.shape,x_test.shape,y_test.shape"
   ]
  },
  {
   "cell_type": "markdown",
   "id": "a8408eb8",
   "metadata": {},
   "source": [
    "# Linear Regression"
   ]
  },
  {
   "cell_type": "code",
   "execution_count": 24,
   "id": "37d4b3e4",
   "metadata": {},
   "outputs": [],
   "source": [
    "column_transformer=make_column_transformer((OneHotEncoder(sparse=False),['location']), remainder='passthrough')"
   ]
  },
  {
   "cell_type": "code",
   "execution_count": 25,
   "id": "28480c24",
   "metadata": {},
   "outputs": [],
   "source": [
    "scaler = StandardScaler()\n",
    "linear_rg = LinearRegression(normalize=True)\n"
   ]
  },
  {
   "cell_type": "code",
   "execution_count": 26,
   "id": "743d3264",
   "metadata": {},
   "outputs": [],
   "source": [
    "pipe = make_pipeline(column_transformer,scaler,linear_rg)"
   ]
  },
  {
   "cell_type": "code",
   "execution_count": 27,
   "id": "c9ad0010",
   "metadata": {},
   "outputs": [
    {
     "name": "stderr",
     "output_type": "stream",
     "text": [
      "C:\\Users\\Mamilla Manoj\\AppData\\Local\\Programs\\Python\\Python310\\lib\\site-packages\\sklearn\\linear_model\\_base.py:141: FutureWarning: 'normalize' was deprecated in version 1.0 and will be removed in 1.2.\n",
      "If you wish to scale the data, use Pipeline with a StandardScaler in a preprocessing stage. To reproduce the previous behavior:\n",
      "\n",
      "from sklearn.pipeline import make_pipeline\n",
      "\n",
      "model = make_pipeline(StandardScaler(with_mean=False), LinearRegression())\n",
      "\n",
      "If you wish to pass a sample_weight parameter, you need to pass it as a fit parameter to each step of the pipeline as follows:\n",
      "\n",
      "kwargs = {s[0] + '__sample_weight': sample_weight for s in model.steps}\n",
      "model.fit(X, y, **kwargs)\n",
      "\n",
      "\n",
      "  warnings.warn(\n"
     ]
    },
    {
     "data": {
      "text/plain": [
       "Pipeline(steps=[('columntransformer',\n",
       "                 ColumnTransformer(remainder='passthrough',\n",
       "                                   transformers=[('onehotencoder',\n",
       "                                                  OneHotEncoder(sparse=False),\n",
       "                                                  ['location'])])),\n",
       "                ('standardscaler', StandardScaler()),\n",
       "                ('linearregression', LinearRegression(normalize=True))])"
      ]
     },
     "execution_count": 27,
     "metadata": {},
     "output_type": "execute_result"
    }
   ],
   "source": [
    "pipe.fit(x_train,y_train)"
   ]
  },
  {
   "cell_type": "code",
   "execution_count": 28,
   "id": "900d69e0",
   "metadata": {},
   "outputs": [],
   "source": [
    "y_pred_lr = pipe.predict(x_test)"
   ]
  },
  {
   "cell_type": "code",
   "execution_count": 29,
   "id": "d466fd88",
   "metadata": {},
   "outputs": [
    {
     "data": {
      "text/plain": [
       "0.8826300245240516"
      ]
     },
     "execution_count": 29,
     "metadata": {},
     "output_type": "execute_result"
    }
   ],
   "source": [
    "r2_score(y_test,y_pred_lr)"
   ]
  },
  {
   "cell_type": "markdown",
   "id": "db93386f",
   "metadata": {},
   "source": [
    "# Lasso"
   ]
  },
  {
   "cell_type": "code",
   "execution_count": 30,
   "id": "d86d20a0",
   "metadata": {},
   "outputs": [],
   "source": [
    "lasso=Lasso()"
   ]
  },
  {
   "cell_type": "code",
   "execution_count": 31,
   "id": "f79124a3",
   "metadata": {},
   "outputs": [],
   "source": [
    "pipe_lasso = make_pipeline(column_transformer,scaler,lasso)"
   ]
  },
  {
   "cell_type": "code",
   "execution_count": 32,
   "id": "4bb5c26e",
   "metadata": {},
   "outputs": [
    {
     "name": "stderr",
     "output_type": "stream",
     "text": [
      "C:\\Users\\Mamilla Manoj\\AppData\\Local\\Programs\\Python\\Python310\\lib\\site-packages\\sklearn\\linear_model\\_coordinate_descent.py:647: ConvergenceWarning: Objective did not converge. You might want to increase the number of iterations, check the scale of the features or consider increasing regularisation. Duality gap: 3.169e+15, tolerance: 8.326e+12\n",
      "  model = cd_fast.enet_coordinate_descent(\n"
     ]
    },
    {
     "data": {
      "text/plain": [
       "Pipeline(steps=[('columntransformer',\n",
       "                 ColumnTransformer(remainder='passthrough',\n",
       "                                   transformers=[('onehotencoder',\n",
       "                                                  OneHotEncoder(sparse=False),\n",
       "                                                  ['location'])])),\n",
       "                ('standardscaler', StandardScaler()), ('lasso', Lasso())])"
      ]
     },
     "execution_count": 32,
     "metadata": {},
     "output_type": "execute_result"
    }
   ],
   "source": [
    "pipe_lasso.fit(x_train,y_train)"
   ]
  },
  {
   "cell_type": "code",
   "execution_count": 33,
   "id": "46f2b364",
   "metadata": {},
   "outputs": [],
   "source": [
    "y_predict_lasso=pipe_lasso.predict(x_test)"
   ]
  },
  {
   "cell_type": "code",
   "execution_count": 34,
   "id": "cae09ad8",
   "metadata": {},
   "outputs": [
    {
     "data": {
      "text/plain": [
       "0.8827152098419587"
      ]
     },
     "execution_count": 34,
     "metadata": {},
     "output_type": "execute_result"
    }
   ],
   "source": [
    "r2_score(y_test,y_predict_lasso)"
   ]
  },
  {
   "cell_type": "markdown",
   "id": "e5213e93",
   "metadata": {},
   "source": [
    "# Ridge"
   ]
  },
  {
   "cell_type": "code",
   "execution_count": 35,
   "id": "df8f5a00",
   "metadata": {},
   "outputs": [],
   "source": [
    "ridge=Ridge()"
   ]
  },
  {
   "cell_type": "code",
   "execution_count": 36,
   "id": "43bcb488",
   "metadata": {},
   "outputs": [],
   "source": [
    "pipe_ridg=make_pipeline(column_transformer,scaler,ridge)"
   ]
  },
  {
   "cell_type": "code",
   "execution_count": 37,
   "id": "3fa5160d",
   "metadata": {},
   "outputs": [
    {
     "data": {
      "text/plain": [
       "Pipeline(steps=[('columntransformer',\n",
       "                 ColumnTransformer(remainder='passthrough',\n",
       "                                   transformers=[('onehotencoder',\n",
       "                                                  OneHotEncoder(sparse=False),\n",
       "                                                  ['location'])])),\n",
       "                ('standardscaler', StandardScaler()), ('ridge', Ridge())])"
      ]
     },
     "execution_count": 37,
     "metadata": {},
     "output_type": "execute_result"
    }
   ],
   "source": [
    "pipe_ridg.fit(x_train,y_train)"
   ]
  },
  {
   "cell_type": "code",
   "execution_count": 38,
   "id": "27333a36",
   "metadata": {},
   "outputs": [],
   "source": [
    "y_pred_ridge=pipe_ridg.predict(x_test)"
   ]
  },
  {
   "cell_type": "code",
   "execution_count": 39,
   "id": "4ce335a8",
   "metadata": {},
   "outputs": [
    {
     "data": {
      "text/plain": [
       "0.8826727743234508"
      ]
     },
     "execution_count": 39,
     "metadata": {},
     "output_type": "execute_result"
    }
   ],
   "source": [
    "r2_score(y_test,y_pred_ridge)"
   ]
  },
  {
   "cell_type": "code",
   "execution_count": null,
   "id": "e990dea0",
   "metadata": {},
   "outputs": [],
   "source": []
  },
  {
   "cell_type": "code",
   "execution_count": 40,
   "id": "a90d7096",
   "metadata": {},
   "outputs": [
    {
     "name": "stdout",
     "output_type": "stream",
     "text": [
      "\"Linerregression\":0.8826300245240516\n",
      "\"Lasso\":0.8827152098419587\n",
      "\"Ridge\":0.8826727743234508\n"
     ]
    }
   ],
   "source": [
    "print(f'''\"Linerregression\":{r2_score(y_test,y_pred_lr)}\n",
    "\"Lasso\":{r2_score(y_test,y_predict_lasso)}\n",
    "\"Ridge\":{r2_score(y_test,y_pred_ridge)}''')"
   ]
  },
  {
   "cell_type": "code",
   "execution_count": 41,
   "id": "9608ee60",
   "metadata": {},
   "outputs": [
    {
     "data": {
      "text/html": [
       "<div>\n",
       "<style scoped>\n",
       "    .dataframe tbody tr th:only-of-type {\n",
       "        vertical-align: middle;\n",
       "    }\n",
       "\n",
       "    .dataframe tbody tr th {\n",
       "        vertical-align: top;\n",
       "    }\n",
       "\n",
       "    .dataframe thead th {\n",
       "        text-align: right;\n",
       "    }\n",
       "</style>\n",
       "<table border=\"1\" class=\"dataframe\">\n",
       "  <thead>\n",
       "    <tr style=\"text-align: right;\">\n",
       "      <th></th>\n",
       "      <th>location</th>\n",
       "      <th>total_sqft</th>\n",
       "      <th>No. of Bedrooms</th>\n",
       "      <th>School</th>\n",
       "      <th>24X7Security</th>\n",
       "      <th>CarParking</th>\n",
       "      <th>Hospital</th>\n",
       "      <th>LiftAvailable</th>\n",
       "    </tr>\n",
       "  </thead>\n",
       "  <tbody>\n",
       "    <tr>\n",
       "      <th>1499</th>\n",
       "      <td>Serilingampally</td>\n",
       "      <td>1650</td>\n",
       "      <td>3</td>\n",
       "      <td>0</td>\n",
       "      <td>1</td>\n",
       "      <td>1</td>\n",
       "      <td>0</td>\n",
       "      <td>1</td>\n",
       "    </tr>\n",
       "    <tr>\n",
       "      <th>563</th>\n",
       "      <td>Kokapet</td>\n",
       "      <td>1270</td>\n",
       "      <td>2</td>\n",
       "      <td>0</td>\n",
       "      <td>1</td>\n",
       "      <td>0</td>\n",
       "      <td>0</td>\n",
       "      <td>1</td>\n",
       "    </tr>\n",
       "    <tr>\n",
       "      <th>18</th>\n",
       "      <td>Alwal</td>\n",
       "      <td>1145</td>\n",
       "      <td>2</td>\n",
       "      <td>0</td>\n",
       "      <td>0</td>\n",
       "      <td>0</td>\n",
       "      <td>0</td>\n",
       "      <td>1</td>\n",
       "    </tr>\n",
       "    <tr>\n",
       "      <th>525</th>\n",
       "      <td>Jubilee Hills</td>\n",
       "      <td>3000</td>\n",
       "      <td>3</td>\n",
       "      <td>1</td>\n",
       "      <td>1</td>\n",
       "      <td>1</td>\n",
       "      <td>1</td>\n",
       "      <td>1</td>\n",
       "    </tr>\n",
       "    <tr>\n",
       "      <th>1450</th>\n",
       "      <td>Puppalaguda</td>\n",
       "      <td>2005</td>\n",
       "      <td>3</td>\n",
       "      <td>0</td>\n",
       "      <td>1</td>\n",
       "      <td>0</td>\n",
       "      <td>0</td>\n",
       "      <td>1</td>\n",
       "    </tr>\n",
       "    <tr>\n",
       "      <th>...</th>\n",
       "      <td>...</td>\n",
       "      <td>...</td>\n",
       "      <td>...</td>\n",
       "      <td>...</td>\n",
       "      <td>...</td>\n",
       "      <td>...</td>\n",
       "      <td>...</td>\n",
       "      <td>...</td>\n",
       "    </tr>\n",
       "    <tr>\n",
       "      <th>245</th>\n",
       "      <td>Beeramguda</td>\n",
       "      <td>1080</td>\n",
       "      <td>2</td>\n",
       "      <td>0</td>\n",
       "      <td>0</td>\n",
       "      <td>0</td>\n",
       "      <td>0</td>\n",
       "      <td>0</td>\n",
       "    </tr>\n",
       "    <tr>\n",
       "      <th>286</th>\n",
       "      <td>Chandanagar</td>\n",
       "      <td>1150</td>\n",
       "      <td>2</td>\n",
       "      <td>0</td>\n",
       "      <td>1</td>\n",
       "      <td>1</td>\n",
       "      <td>0</td>\n",
       "      <td>1</td>\n",
       "    </tr>\n",
       "    <tr>\n",
       "      <th>43</th>\n",
       "      <td>Appa Junction</td>\n",
       "      <td>1385</td>\n",
       "      <td>2</td>\n",
       "      <td>0</td>\n",
       "      <td>0</td>\n",
       "      <td>0</td>\n",
       "      <td>0</td>\n",
       "      <td>1</td>\n",
       "    </tr>\n",
       "    <tr>\n",
       "      <th>1200</th>\n",
       "      <td>Nallagandla Gachibowli</td>\n",
       "      <td>1860</td>\n",
       "      <td>3</td>\n",
       "      <td>0</td>\n",
       "      <td>1</td>\n",
       "      <td>1</td>\n",
       "      <td>0</td>\n",
       "      <td>1</td>\n",
       "    </tr>\n",
       "    <tr>\n",
       "      <th>4</th>\n",
       "      <td>Adibatla</td>\n",
       "      <td>1200</td>\n",
       "      <td>2</td>\n",
       "      <td>0</td>\n",
       "      <td>0</td>\n",
       "      <td>0</td>\n",
       "      <td>0</td>\n",
       "      <td>0</td>\n",
       "    </tr>\n",
       "  </tbody>\n",
       "</table>\n",
       "<p>197 rows × 8 columns</p>\n",
       "</div>"
      ],
      "text/plain": [
       "                    location  total_sqft  No. of Bedrooms  School  \\\n",
       "1499         Serilingampally        1650                3       0   \n",
       "563                  Kokapet        1270                2       0   \n",
       "18                     Alwal        1145                2       0   \n",
       "525            Jubilee Hills        3000                3       1   \n",
       "1450             Puppalaguda        2005                3       0   \n",
       "...                      ...         ...              ...     ...   \n",
       "245               Beeramguda        1080                2       0   \n",
       "286              Chandanagar        1150                2       0   \n",
       "43             Appa Junction        1385                2       0   \n",
       "1200  Nallagandla Gachibowli        1860                3       0   \n",
       "4                   Adibatla        1200                2       0   \n",
       "\n",
       "      24X7Security  CarParking  Hospital  LiftAvailable  \n",
       "1499             1           1         0              1  \n",
       "563              1           0         0              1  \n",
       "18               0           0         0              1  \n",
       "525              1           1         1              1  \n",
       "1450             1           0         0              1  \n",
       "...            ...         ...       ...            ...  \n",
       "245              0           0         0              0  \n",
       "286              1           1         0              1  \n",
       "43               0           0         0              1  \n",
       "1200             1           1         0              1  \n",
       "4                0           0         0              0  \n",
       "\n",
       "[197 rows x 8 columns]"
      ]
     },
     "execution_count": 41,
     "metadata": {},
     "output_type": "execute_result"
    }
   ],
   "source": [
    "x_test"
   ]
  },
  {
   "cell_type": "code",
   "execution_count": null,
   "id": "d39716d2",
   "metadata": {},
   "outputs": [],
   "source": []
  },
  {
   "cell_type": "code",
   "execution_count": null,
   "id": "63ba79fe",
   "metadata": {},
   "outputs": [],
   "source": []
  }
 ],
 "metadata": {
  "kernelspec": {
   "display_name": "Python 3 (ipykernel)",
   "language": "python",
   "name": "python3"
  },
  "language_info": {
   "codemirror_mode": {
    "name": "ipython",
    "version": 3
   },
   "file_extension": ".py",
   "mimetype": "text/x-python",
   "name": "python",
   "nbconvert_exporter": "python",
   "pygments_lexer": "ipython3",
   "version": "3.10.4"
  }
 },
 "nbformat": 4,
 "nbformat_minor": 5
}
